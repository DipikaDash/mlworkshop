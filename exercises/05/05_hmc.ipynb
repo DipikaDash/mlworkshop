{
 "cells": [
  {
   "cell_type": "markdown",
   "metadata": {
    "deletable": true,
    "editable": true
   },
   "source": [
    "# Hamiltonian Monte Chain - exercise 05\n",
    " >__Created__:  2018 Harrison B. Prosper\n",
    "\n",
    "The standard approach in machine learning is to search for a single optimal function within the specified function space by minimizing the average loss. In the Bayesian approach, the task is construed as a problem of *inference* in which the goal is to assign a *probability density* to every function in the function space. The higher the probability density, the better the choice of function. But, the crucial point is that one is not obliged to use only one function. In principle, one can use all of them provided that results are weighted by the probability densities associated with the functions. In practice, of course, we use a finite sample of functions. \n",
    "\n",
    "The basic idea in Bayesian inference is to assign such probability densities (or probabilities) using Bayes theorem\n",
    "\n",
    "$$ \\boxed{\\, p(w \\, | \\, D) = \\frac{p(D \\, | \\, w) \\, \\pi(w)}{p(D)}\\,}$$\n",
    "\n",
    "The function $p(D \\, | \\,w)$ is called the __likelihood function__ or likelihood for short. It is the probability\n",
    "model $p(x \\, | \\,w)$ of *potential* data $x$ evaluated at the actual data $D$. Since $D$ are constants, the likelihood is a function of the parameters $w$ only. The function $\\pi(w)$ is called the prior density of __prior__ for short. It models what is known, or assumed, about $w$ independently of the data $D$. Bayes theorem reminds us of the impossibility of arriving at a satisfactory solution without making *some* assumptions. The assumptions are encoded both within the likelihood and especially the prior. The function $p(w \\, | \\, D)$ is called the __posterior density__.\n",
    "\n",
    "Given a flexible function $n(x, w)$, we can compute, for example, its moments\n",
    "\n",
    "$$n_{m}(x) = \\int n^m(x, w) \\, p(w \\, | \\, x) \\, dw, $$\n",
    "\n",
    "which  can be used to assign an uncertainty to $n(x, w)$, e.g. $\\sigma = \\sqrt{n_2 - n_1^2}$.\n",
    "In this example, $n(x, w)$ will be a 2-hidden layer deep neural network.\n",
    "\n",
    "### Markov Chain Sampling\n",
    "In practice, integrals such as $$\\int n^m(x, w) \\, p(w \\, | \\, x) \\, dw,$$ must be approximated. However, numerical integration is out of the question because the dimensionality of the $w$ is too large. We can try to approximate $p(w \\, | \\, x)$ by a giant multivariate Gaussian, but that approximation may not be good enough. The method of choice for truly hard problems is to *sample* points $w_i$ from some known probability density $f(w)$, for which sampling is easy, and approximate the integral\n",
    "by the average\n",
    "\n",
    "$$n_{m}(x) \\approx \\frac{1}{N} \\sum_{n=1}^ n(x, w_n) \\left[\\frac{p(w_n \\, | \\, D}{f(w_n)} \\right].$$\n",
    "\n",
    "Ideally, we would like to have $f(w) = p(w \\, | \\, D)$ in order to achieve maximum accuracy. But, sample from $p(w \\, | \\, D)$ directly is also a hard problem! The method of choice to solve it is Hamiltonian Monte Carlo (HMC), which is a variant of Markov chain Monte Carlo (MCMC) well-suited to very difficult sampling problems.\n",
    "\n",
    "The basic idea of HMC is to map the problem of sampling from $p(w \\, | \\, D)$ to the problem of sampling the states $(q, p)$ of a particle moving in a potential $U(q)$ with kinetic energy $K(p)$, where $q$ and $p$ are the position and momentum of the particle, respectively. The states are sampled from the probability density\n",
    "\n",
    "$$g(q, p) \\propto \\exp(-H(q, p) / T),$$\n",
    "\n",
    "where $H(q, p) = U(q) + K(p)$ is the __Hamiltonian__ of the system and $T$ the absolute temperature. The mapping is achieved by identifying $q \\equiv w$ as the position and $p \\equiv (dw/dt)/m$ as the momentum and\n",
    "\n",
    "$$U(q) = - \\ln p(w \\, | \\, D).$$\n",
    "\n",
    "In statistical mechanics, the probability density $g(q, p)$ determines the thermodynamic \n",
    "properties of the system. Of course, we should really place things like position in quotes because the system is fictitious!\n",
    "\n",
    "Given a particle's Hamiltonian, its motion in classical physics can be computed using Hamilton's\n",
    "equations\n",
    "\n",
    "\\begin{align*}\n",
    "    \\frac{dq}{dt} & = \\frac{\\partial H}{\\partial p},\\\\\n",
    "    \\frac{dp}{dt} & = -\\frac{\\partial H}{\\partial q}.\\\\\n",
    "\\end{align*}\n",
    "\n",
    "These equations are just Newton's laws of motion in disguise!\n",
    "\n",
    "#### Hamiltonian Monte Carlo\n",
    "\n",
    "In order to sample from $\\exp(-H(q, p) / T)$, the \"particle\" must move deterministically according to Hamiliton's equations along a finite\n",
    "trajectory. Then we randomly change its \"momentum\", which changes the value of $H(q, p)$. We then decide whether the current state $(q, p)$ is to be accepted or rejected. If it is rejected, we go back to the start of the trajectory and try again. If the state is accepted, we continue with the new momentum along another trajectory. The process is iterated for as many steps as needed to create a sample of points {(q_i, p_i)} whose distribution faithfully matches $\\exp(-H(q, p) / T)$. The values $p_i$ are discarded and the $q_i$, that is, $w_i$ are kept.\n",
    "The Hamilton equations are solved using a finite difference equation called the *leapfrog* algorithm. See below.\n",
    "\n",
    "\n",
    "### Exercise\n",
    "Implement the HMC algorithm for a 1-dimensional distribution $f(q)$.\n",
    "\n",
    "  1. Choose a random starting value $q = q_0$. choose a step size $\\epsilon$.\n",
    "  3. Sample $p = p_0$ from a Gaussian of zero mean and some variance $\\sigma$ (p = np.random.normal(0, 1))\n",
    "  3. compute\n",
    "    $$p = p(t) - \\frac{\\epsilon}{2} \\, \\frac{\\partial U}{\\partial q}(q(t))$$\n",
    "  3. __for__ $i = 1\\cdots L$ steps do:\n",
    "  4. compute \n",
    "  \\begin{align*}\n",
    "  q & = q + \\epsilon \\, p\\\\\n",
    "    & \\textrm{if $i >= L - 1$ break}\\\\\n",
    "  p & =  p - \\epsilon \\, \\frac{\\partial U}{\\partial q}(q)\n",
    "  \\end{align*}\n",
    "  4.  __endfor__\n",
    "  5. compute\n",
    "    $$p = p(t) - \\frac{\\epsilon}{2} \\, \\frac{\\partial U}{\\partial q}(q(t))$$\n",
    "  6. compute\n",
    "  \\begin{align*}\n",
    "  U_0 & = U(q_0)\\\\\n",
    "  K_0 & = p_0^2 / 2\\\\\n",
    "    U & = U(q)\\\\\n",
    "    K & = p^2 / 2\n",
    "  \\end{align*}\n",
    "  7. Now decide whether to accept or reject the next point\n",
    "  8. $x$ = np.random.uniform(0,1)\n",
    "  9. __if__ ( $x$ < exp($U_0 + K_0 - U - K$) __accept__ $q$ and save it __else__ set $q = q_0$\n",
    "  \n",
    "Steps 2 to 9 are repeated a large number of times (in the tens to hundreds of thousands) and one uses on the last few thousand points as the sample."
   ]
  },
  {
   "cell_type": "markdown",
   "metadata": {
    "deletable": true,
    "editable": true
   },
   "source": []
  },
  {
   "cell_type": "code",
   "execution_count": 18,
   "metadata": {
    "collapsed": false,
    "deletable": true,
    "editable": true
   },
   "outputs": [],
   "source": [
    "import os, sys\n",
    "import pandas as pd\n",
    "import numpy as np\n",
    "import scipy.stats as st\n",
    "\n",
    "import matplotlib as mp\n",
    "import matplotlib.pyplot as plt\n",
    "import pylab as pl\n",
    "\n",
    "%matplotlib inline"
   ]
  },
  {
   "cell_type": "code",
   "execution_count": 13,
   "metadata": {
    "collapsed": false,
    "deletable": true,
    "editable": true
   },
   "outputs": [],
   "source": [
    "# update fonts\n",
    "FONTSIZE = 18\n",
    "font = {'family' : 'sans-serif',\n",
    "        'weight' : 'normal',\n",
    "        'size'   : 18}\n",
    "\n",
    "mp.rc('font', **font)"
   ]
  },
  {
   "cell_type": "code",
   "execution_count": 28,
   "metadata": {
    "collapsed": false,
    "deletable": true,
    "editable": true
   },
   "outputs": [
    {
     "name": "stdout",
     "output_type": "stream",
     "text": [
      "0.944769424827 1.07006704843 [ 0.24197072  0.39894228  0.24197072  0.05399097  0.00443185]\n"
     ]
    }
   ],
   "source": [
    "x = np.random.uniform(0,1)\n",
    "y = np.random.normal(0,1)\n",
    "z = st.norm.pdf(np.arange(5),1)\n",
    "print x, y, z"
   ]
  },
  {
   "cell_type": "code",
   "execution_count": 59,
   "metadata": {
    "collapsed": false,
    "deletable": true,
    "editable": true
   },
   "outputs": [],
   "source": [
    "def function(q):\n",
    "    p = 0.5*st.norm.pdf(q, 2.0, 0.7)+0.3*st.norm.pdf(q, 3.0, 0.2)+ 0.2*st.norm.pdf(q, 5.0, 0.5)\n",
    "    return p"
   ]
  },
  {
   "cell_type": "code",
   "execution_count": 61,
   "metadata": {
    "collapsed": false,
    "deletable": true,
    "editable": true
   },
   "outputs": [
    {
     "data": {
      "image/png": "[encoded data removed]",
      "text/plain": [
       "<matplotlib.figure.Figure at 0x10d226890>"
      ]
     },
     "metadata": {},
     "output_type": "display_data"
    }
   ],
   "source": [
    "x = np.arange(0,8, 0.01)\n",
    "y = function(x)\n",
    "plt.plot(x,y);"
   ]
  },
  {
   "cell_type": "code",
   "execution_count": null,
   "metadata": {
    "collapsed": true
   },
   "outputs": [],
   "source": []
  }
 ],
 "metadata": {
  "kernelspec": {
   "display_name": "Python 2",
   "language": "python",
   "name": "python2"
  },
  "language_info": {
   "codemirror_mode": {
    "name": "ipython",
    "version": 2
   },
   "file_extension": ".py",
   "mimetype": "text/x-python",
   "name": "python",
   "nbconvert_exporter": "python",
   "pygments_lexer": "ipython2",
   "version": "2.7.6"
  }
 },
 "nbformat": 4,
 "nbformat_minor": 0
}
