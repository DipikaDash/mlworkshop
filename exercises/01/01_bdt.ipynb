{
 "cells": [
  {
   "cell_type": "markdown",
   "metadata": {
    "deletable": true,
    "editable": true
   },
   "source": [
    "# Boosted Decision Trees - exercise 01\n",
    " >__Created__:  2018 Harrison B. Prosper\n",
    "  __Updated__: 05-Mar-2018 HBP\n",
    "\n",
    "\n",
    "### Introduction\n",
    "\n",
    "Given a loss function $L(y, f)$, where $y$ is a numerical label associated with data $x$, and a sufficiently flexible function $f(x, w)$ that inhabits a function space $\\Omega$, the basic tasks of classification and regression is to $pick$ an acceptable function from $\\Omega$. The loss function measures the *unacceptability* of your choice. The most widely used loss function is the __quadratic__ loss given by \n",
    "\n",
    "$$L(y, f) = (y - f)^2$$.\n",
    "\n",
    "A function $f$ is chosen from its function space by minimizing the loss function. It is in fact much better to minimize the $average$ loss\n",
    "\n",
    "$$R_N(w) = \\frac{1}{N} \\sum_{n=0}^N L(y_n, f(x_n, w),$$\n",
    "\n",
    "which is called the empirical risk function, or in machine learning, the loss function! In general, it is impossible to navigate the function space towards an acceptable choice without placing limits on which functions in the space are acceptable. This is done by adding a *constraint* $C(w)$ to $R_N(f)$, which constrains the parameters associated with the function $f(x, w)$. For example, you may prefer to guide the minimization towards smooth functions. Typically, the constraint increases as one moves away from an acceptable function choice.\n",
    "\n",
    "The __risk function__ is the limit of $R_N(f)$ as $N \\rightarrow \\infty$ and is given by\n",
    "\n",
    "$$R[f] = \\int \\int L(y, f(x, w)) \\, p(y, x) \\, dy\\, dx,$$\n",
    "\n",
    "where $p(y, x) = p(y | x) \\, p(y)$ is the joint probability function of the data $(y, x)$. Notice that $R[f]$ depends on $all$ values of the function $f(y, f)$. A quantity that depends simulataneously on all the values of another function  is called a $functional$. This distibguishes it from a $function$, which depends at most on a finite number of function values.\n",
    "\n",
    "#### Quadratic loss \n",
    "\n",
    "Suppose we use the quadratic loss in $R[f]$ then we obtain\n",
    "\\begin{align*}\n",
    "        R[f] & = \\int \\int (y - f)^2 \\, p(y, x) \\, dy\\, dx,\\\\\n",
    "            & = \\int \\left[\\int (y - f)^2 \\, p(y | x)\\, p(x) \\, dy\\right] \\, dx.\n",
    "\\end{align*}\n",
    "Let's now minimize $R[f]$ with respect to the function $f$. Happily, *functional differentiation* is similar to ordinary differention so we can write\n",
    "\n",
    "\\begin{align*}\n",
    "        \\frac{\\delta R[f]}{\\delta f} & = - 2 \\int \\left[\\int (y - f) \\, p(y | x) \\, dy\\right] \\, p(x) \\, dx\\\\\n",
    "        & = - 2 \\int \\left[\\int (y - f(x, w)) p(y | x) \\, dy\\right]  \\, p(x) \\, dx.\n",
    "\\end{align*}\n",
    "__If__ our function $f(x, w)$ is sufficiently flexible, then the functional derivative $\\delta R[f] / \\delta f$ can reach zero. If this happens then we can write\n",
    "\n",
    "\\begin{align*}\n",
    "        - 2 \\int \\left[\\int (y - f(x, w)) p(y | x) \\, dy\\right]  \\, p(x) \\, dx & = 0,\n",
    "\\end{align*}\n",
    "This equation must be zero for $all$ values of $x$. This is guaranteed only if the term in\n",
    "brackets is zero, that is, if \n",
    "\n",
    "$$\\boxed{\\,\\, f(x, w) = \\int y \\, p(y \\, | \\, x) \\, dy\\,\\,},$$\n",
    "\n",
    "that is, minimizing $R_N(w)$ $approximates$ the conditional average of $y$, where the condition is \"a given set of input data $x$\". Therefore, if you use a machine learning method with a quadratic loss, your machine learning method approximates the average of $y$ for a given $x$. It is important to know this because it may be that the average is not what you want. Different loss functions will yield different mathematical results. For example, $L(y, f) = |y - f|$ yields the *median* of $y$. For the AdaBoost algorithm used here, the risk function is\n",
    "\n",
    "$$R[f] = \\int \\int \\exp(-y f(x, \\mathbf{w})) \\, p(y, x) \\, dy \\, dx,$$\n",
    "\n",
    "where \n",
    " $$f(x, \\mathbf{w}) = \\sum_{n=1}^N \\alpha_n T(x, w_n), \\quad N \\rightarrow \\infty$$\n",
    " \n",
    "and $T(x, w)$ is a decision tree (that is, a *piece-wise constant* function).\n",
    "\n",
    "Although $f(x, w)$ cannot be interpreted as a probability, the following can be,\n",
    "\n",
    "$$p(x) = \\frac{1}{1 + \\exp(-2 y f(x, w))}.$$\n",
    "\n",
    "### Exercise\n",
    "  1. Build a shallow or deep tree, using __AdaBoostClassifier__, to discriminate between the good wine and bad based on the chemical properties of wine."
   ]
  },
  {
   "cell_type": "markdown",
   "metadata": {
    "deletable": true,
    "editable": true
   },
   "source": []
  },
  {
   "cell_type": "code",
   "execution_count": 2,
   "metadata": {
    "collapsed": false,
    "deletable": true,
    "editable": true
   },
   "outputs": [
    {
     "name": "stderr",
     "output_type": "stream",
     "text": [
      "/opt/local/Library/Frameworks/Python.framework/Versions/2.7/lib/python2.7/site-packages/matplotlib/font_manager.py:273: UserWarning: Matplotlib is building the font cache using fc-list. This may take a moment.\n",
      "  warnings.warn('Matplotlib is building the font cache using fc-list. This may take a moment.')\n"
     ]
    }
   ],
   "source": [
    "import os, sys\n",
    "import pandas as pd\n",
    "import numpy as np\n",
    "\n",
    "from sklearn.pipeline import Pipeline\n",
    "from sklearn.model_selection import train_test_split, RandomizedSearchCV\n",
    "from sklearn.preprocessing import StandardScaler\n",
    "from sklearn.tree import DecisionTreeClassifier\n",
    "from sklearn.ensemble import AdaBoostClassifier\n",
    "from sklearn.externals import joblib\n",
    "\n",
    "import matplotlib as mp\n",
    "import matplotlib.pyplot as plt\n",
    "import pylab as pl\n",
    "\n",
    "%matplotlib inline"
   ]
  },
  {
   "cell_type": "code",
   "execution_count": 3,
   "metadata": {
    "collapsed": false,
    "deletable": true,
    "editable": true
   },
   "outputs": [],
   "source": [
    "# update fonts\n",
    "FONTSIZE = 32\n",
    "font = {'family' : 'sans-serif',\n",
    "        'weight' : 'normal',\n",
    "        'size'   : 28}\n",
    "\n",
    "mp.rc('font', **font)"
   ]
  },
  {
   "cell_type": "markdown",
   "metadata": {
    "collapsed": true,
    "deletable": true,
    "editable": true
   },
   "source": [
    "### Load data into memory"
   ]
  },
  {
   "cell_type": "code",
   "execution_count": 4,
   "metadata": {
    "collapsed": false,
    "deletable": true,
    "editable": true
   },
   "outputs": [
    {
     "name": "stdout",
     "output_type": "stream",
     "text": [
      "['acetic', 'citric', 'suger', 'salt', 'SO2free', 'SO2tota', 'pH', 'sulfate', 'alcohol', 'quality']\n"
     ]
    },
    {
     "data": {
      "text/html": [
       "<div>\n",
       "<table border=\"1\" class=\"dataframe\">\n",
       "  <thead>\n",
       "    <tr style=\"text-align: right;\">\n",
       "      <th></th>\n",
       "      <th>acetic</th>\n",
       "      <th>citric</th>\n",
       "      <th>suger</th>\n",
       "      <th>salt</th>\n",
       "      <th>SO2free</th>\n",
       "      <th>SO2tota</th>\n",
       "      <th>pH</th>\n",
       "      <th>sulfate</th>\n",
       "      <th>alcohol</th>\n",
       "      <th>quality</th>\n",
       "    </tr>\n",
       "  </thead>\n",
       "  <tbody>\n",
       "    <tr>\n",
       "      <th>0</th>\n",
       "      <td>0.180</td>\n",
       "      <td>0.33</td>\n",
       "      <td>1.4</td>\n",
       "      <td>0.029</td>\n",
       "      <td>35.0</td>\n",
       "      <td>138.0</td>\n",
       "      <td>3.36</td>\n",
       "      <td>0.60</td>\n",
       "      <td>11.5</td>\n",
       "      <td>0.7</td>\n",
       "    </tr>\n",
       "    <tr>\n",
       "      <th>1</th>\n",
       "      <td>0.685</td>\n",
       "      <td>0.21</td>\n",
       "      <td>9.5</td>\n",
       "      <td>0.070</td>\n",
       "      <td>33.0</td>\n",
       "      <td>172.0</td>\n",
       "      <td>3.00</td>\n",
       "      <td>0.55</td>\n",
       "      <td>9.1</td>\n",
       "      <td>0.6</td>\n",
       "    </tr>\n",
       "    <tr>\n",
       "      <th>2</th>\n",
       "      <td>0.210</td>\n",
       "      <td>0.28</td>\n",
       "      <td>2.4</td>\n",
       "      <td>0.056</td>\n",
       "      <td>49.0</td>\n",
       "      <td>159.0</td>\n",
       "      <td>3.02</td>\n",
       "      <td>0.47</td>\n",
       "      <td>8.8</td>\n",
       "      <td>0.8</td>\n",
       "    </tr>\n",
       "    <tr>\n",
       "      <th>3</th>\n",
       "      <td>0.250</td>\n",
       "      <td>0.13</td>\n",
       "      <td>17.2</td>\n",
       "      <td>0.036</td>\n",
       "      <td>49.0</td>\n",
       "      <td>219.0</td>\n",
       "      <td>2.96</td>\n",
       "      <td>0.46</td>\n",
       "      <td>9.7</td>\n",
       "      <td>0.5</td>\n",
       "    </tr>\n",
       "    <tr>\n",
       "      <th>4</th>\n",
       "      <td>0.420</td>\n",
       "      <td>0.23</td>\n",
       "      <td>8.8</td>\n",
       "      <td>0.054</td>\n",
       "      <td>42.0</td>\n",
       "      <td>215.0</td>\n",
       "      <td>3.02</td>\n",
       "      <td>0.58</td>\n",
       "      <td>9.2</td>\n",
       "      <td>0.6</td>\n",
       "    </tr>\n",
       "    <tr>\n",
       "      <th>5</th>\n",
       "      <td>0.240</td>\n",
       "      <td>0.15</td>\n",
       "      <td>7.1</td>\n",
       "      <td>0.043</td>\n",
       "      <td>32.0</td>\n",
       "      <td>134.0</td>\n",
       "      <td>3.24</td>\n",
       "      <td>0.48</td>\n",
       "      <td>9.9</td>\n",
       "      <td>0.6</td>\n",
       "    </tr>\n",
       "    <tr>\n",
       "      <th>6</th>\n",
       "      <td>0.250</td>\n",
       "      <td>0.37</td>\n",
       "      <td>1.0</td>\n",
       "      <td>0.043</td>\n",
       "      <td>10.0</td>\n",
       "      <td>80.0</td>\n",
       "      <td>3.08</td>\n",
       "      <td>0.38</td>\n",
       "      <td>11.4</td>\n",
       "      <td>0.5</td>\n",
       "    </tr>\n",
       "    <tr>\n",
       "      <th>7</th>\n",
       "      <td>0.140</td>\n",
       "      <td>0.32</td>\n",
       "      <td>1.1</td>\n",
       "      <td>0.022</td>\n",
       "      <td>48.0</td>\n",
       "      <td>116.0</td>\n",
       "      <td>3.04</td>\n",
       "      <td>0.67</td>\n",
       "      <td>10.0</td>\n",
       "      <td>0.6</td>\n",
       "    </tr>\n",
       "    <tr>\n",
       "      <th>8</th>\n",
       "      <td>0.310</td>\n",
       "      <td>0.26</td>\n",
       "      <td>7.3</td>\n",
       "      <td>0.050</td>\n",
       "      <td>37.0</td>\n",
       "      <td>157.0</td>\n",
       "      <td>3.09</td>\n",
       "      <td>0.43</td>\n",
       "      <td>9.0</td>\n",
       "      <td>0.5</td>\n",
       "    </tr>\n",
       "    <tr>\n",
       "      <th>9</th>\n",
       "      <td>0.410</td>\n",
       "      <td>0.18</td>\n",
       "      <td>3.5</td>\n",
       "      <td>0.027</td>\n",
       "      <td>23.0</td>\n",
       "      <td>109.0</td>\n",
       "      <td>3.34</td>\n",
       "      <td>0.54</td>\n",
       "      <td>12.8</td>\n",
       "      <td>0.8</td>\n",
       "    </tr>\n",
       "  </tbody>\n",
       "</table>\n",
       "</div>"
      ],
      "text/plain": [
       "   acetic  citric  suger   salt  SO2free  SO2tota    pH  sulfate  alcohol  \\\n",
       "0   0.180    0.33    1.4  0.029     35.0    138.0  3.36     0.60     11.5   \n",
       "1   0.685    0.21    9.5  0.070     33.0    172.0  3.00     0.55      9.1   \n",
       "2   0.210    0.28    2.4  0.056     49.0    159.0  3.02     0.47      8.8   \n",
       "3   0.250    0.13   17.2  0.036     49.0    219.0  2.96     0.46      9.7   \n",
       "4   0.420    0.23    8.8  0.054     42.0    215.0  3.02     0.58      9.2   \n",
       "5   0.240    0.15    7.1  0.043     32.0    134.0  3.24     0.48      9.9   \n",
       "6   0.250    0.37    1.0  0.043     10.0     80.0  3.08     0.38     11.4   \n",
       "7   0.140    0.32    1.1  0.022     48.0    116.0  3.04     0.67     10.0   \n",
       "8   0.310    0.26    7.3  0.050     37.0    157.0  3.09     0.43      9.0   \n",
       "9   0.410    0.18    3.5  0.027     23.0    109.0  3.34     0.54     12.8   \n",
       "\n",
       "   quality  \n",
       "0      0.7  \n",
       "1      0.6  \n",
       "2      0.8  \n",
       "3      0.5  \n",
       "4      0.6  \n",
       "5      0.6  \n",
       "6      0.5  \n",
       "7      0.6  \n",
       "8      0.5  \n",
       "9      0.8  "
      ]
     },
     "execution_count": 4,
     "metadata": {},
     "output_type": "execute_result"
    }
   ],
   "source": [
    "wine = pd.read_csv('../../datasets/whitewine.csv')\n",
    "names= wine.keys().tolist()\n",
    "print names\n",
    "wine[0:10]"
   ]
  },
  {
   "cell_type": "markdown",
   "metadata": {
    "deletable": true,
    "editable": true
   },
   "source": [
    "### Add a target column based on wine quality "
   ]
  },
  {
   "cell_type": "code",
   "execution_count": 5,
   "metadata": {
    "collapsed": false,
    "deletable": true,
    "editable": true
   },
   "outputs": [
    {
     "name": "stdout",
     "output_type": "stream",
     "text": [
      "number of good wines 3258\n",
      "number of bad  wines 1640\n"
     ]
    },
    {
     "data": {
      "text/html": [
       "<div>\n",
       "<table border=\"1\" class=\"dataframe\">\n",
       "  <thead>\n",
       "    <tr style=\"text-align: right;\">\n",
       "      <th></th>\n",
       "      <th>acetic</th>\n",
       "      <th>citric</th>\n",
       "      <th>suger</th>\n",
       "      <th>salt</th>\n",
       "      <th>SO2free</th>\n",
       "      <th>SO2tota</th>\n",
       "      <th>pH</th>\n",
       "      <th>sulfate</th>\n",
       "      <th>alcohol</th>\n",
       "      <th>quality</th>\n",
       "      <th>target</th>\n",
       "    </tr>\n",
       "  </thead>\n",
       "  <tbody>\n",
       "    <tr>\n",
       "      <th>0</th>\n",
       "      <td>0.180</td>\n",
       "      <td>0.33</td>\n",
       "      <td>1.4</td>\n",
       "      <td>0.029</td>\n",
       "      <td>35.0</td>\n",
       "      <td>138.0</td>\n",
       "      <td>3.36</td>\n",
       "      <td>0.60</td>\n",
       "      <td>11.5</td>\n",
       "      <td>0.7</td>\n",
       "      <td>1</td>\n",
       "    </tr>\n",
       "    <tr>\n",
       "      <th>1</th>\n",
       "      <td>0.685</td>\n",
       "      <td>0.21</td>\n",
       "      <td>9.5</td>\n",
       "      <td>0.070</td>\n",
       "      <td>33.0</td>\n",
       "      <td>172.0</td>\n",
       "      <td>3.00</td>\n",
       "      <td>0.55</td>\n",
       "      <td>9.1</td>\n",
       "      <td>0.6</td>\n",
       "      <td>1</td>\n",
       "    </tr>\n",
       "    <tr>\n",
       "      <th>2</th>\n",
       "      <td>0.210</td>\n",
       "      <td>0.28</td>\n",
       "      <td>2.4</td>\n",
       "      <td>0.056</td>\n",
       "      <td>49.0</td>\n",
       "      <td>159.0</td>\n",
       "      <td>3.02</td>\n",
       "      <td>0.47</td>\n",
       "      <td>8.8</td>\n",
       "      <td>0.8</td>\n",
       "      <td>1</td>\n",
       "    </tr>\n",
       "    <tr>\n",
       "      <th>3</th>\n",
       "      <td>0.250</td>\n",
       "      <td>0.13</td>\n",
       "      <td>17.2</td>\n",
       "      <td>0.036</td>\n",
       "      <td>49.0</td>\n",
       "      <td>219.0</td>\n",
       "      <td>2.96</td>\n",
       "      <td>0.46</td>\n",
       "      <td>9.7</td>\n",
       "      <td>0.5</td>\n",
       "      <td>0</td>\n",
       "    </tr>\n",
       "    <tr>\n",
       "      <th>4</th>\n",
       "      <td>0.420</td>\n",
       "      <td>0.23</td>\n",
       "      <td>8.8</td>\n",
       "      <td>0.054</td>\n",
       "      <td>42.0</td>\n",
       "      <td>215.0</td>\n",
       "      <td>3.02</td>\n",
       "      <td>0.58</td>\n",
       "      <td>9.2</td>\n",
       "      <td>0.6</td>\n",
       "      <td>1</td>\n",
       "    </tr>\n",
       "    <tr>\n",
       "      <th>5</th>\n",
       "      <td>0.240</td>\n",
       "      <td>0.15</td>\n",
       "      <td>7.1</td>\n",
       "      <td>0.043</td>\n",
       "      <td>32.0</td>\n",
       "      <td>134.0</td>\n",
       "      <td>3.24</td>\n",
       "      <td>0.48</td>\n",
       "      <td>9.9</td>\n",
       "      <td>0.6</td>\n",
       "      <td>1</td>\n",
       "    </tr>\n",
       "    <tr>\n",
       "      <th>6</th>\n",
       "      <td>0.250</td>\n",
       "      <td>0.37</td>\n",
       "      <td>1.0</td>\n",
       "      <td>0.043</td>\n",
       "      <td>10.0</td>\n",
       "      <td>80.0</td>\n",
       "      <td>3.08</td>\n",
       "      <td>0.38</td>\n",
       "      <td>11.4</td>\n",
       "      <td>0.5</td>\n",
       "      <td>0</td>\n",
       "    </tr>\n",
       "    <tr>\n",
       "      <th>7</th>\n",
       "      <td>0.140</td>\n",
       "      <td>0.32</td>\n",
       "      <td>1.1</td>\n",
       "      <td>0.022</td>\n",
       "      <td>48.0</td>\n",
       "      <td>116.0</td>\n",
       "      <td>3.04</td>\n",
       "      <td>0.67</td>\n",
       "      <td>10.0</td>\n",
       "      <td>0.6</td>\n",
       "      <td>1</td>\n",
       "    </tr>\n",
       "    <tr>\n",
       "      <th>8</th>\n",
       "      <td>0.310</td>\n",
       "      <td>0.26</td>\n",
       "      <td>7.3</td>\n",
       "      <td>0.050</td>\n",
       "      <td>37.0</td>\n",
       "      <td>157.0</td>\n",
       "      <td>3.09</td>\n",
       "      <td>0.43</td>\n",
       "      <td>9.0</td>\n",
       "      <td>0.5</td>\n",
       "      <td>0</td>\n",
       "    </tr>\n",
       "    <tr>\n",
       "      <th>9</th>\n",
       "      <td>0.410</td>\n",
       "      <td>0.18</td>\n",
       "      <td>3.5</td>\n",
       "      <td>0.027</td>\n",
       "      <td>23.0</td>\n",
       "      <td>109.0</td>\n",
       "      <td>3.34</td>\n",
       "      <td>0.54</td>\n",
       "      <td>12.8</td>\n",
       "      <td>0.8</td>\n",
       "      <td>1</td>\n",
       "    </tr>\n",
       "  </tbody>\n",
       "</table>\n",
       "</div>"
      ],
      "text/plain": [
       "   acetic  citric  suger   salt  SO2free  SO2tota    pH  sulfate  alcohol  \\\n",
       "0   0.180    0.33    1.4  0.029     35.0    138.0  3.36     0.60     11.5   \n",
       "1   0.685    0.21    9.5  0.070     33.0    172.0  3.00     0.55      9.1   \n",
       "2   0.210    0.28    2.4  0.056     49.0    159.0  3.02     0.47      8.8   \n",
       "3   0.250    0.13   17.2  0.036     49.0    219.0  2.96     0.46      9.7   \n",
       "4   0.420    0.23    8.8  0.054     42.0    215.0  3.02     0.58      9.2   \n",
       "5   0.240    0.15    7.1  0.043     32.0    134.0  3.24     0.48      9.9   \n",
       "6   0.250    0.37    1.0  0.043     10.0     80.0  3.08     0.38     11.4   \n",
       "7   0.140    0.32    1.1  0.022     48.0    116.0  3.04     0.67     10.0   \n",
       "8   0.310    0.26    7.3  0.050     37.0    157.0  3.09     0.43      9.0   \n",
       "9   0.410    0.18    3.5  0.027     23.0    109.0  3.34     0.54     12.8   \n",
       "\n",
       "   quality  target  \n",
       "0      0.7       1  \n",
       "1      0.6       1  \n",
       "2      0.8       1  \n",
       "3      0.5       0  \n",
       "4      0.6       1  \n",
       "5      0.6       1  \n",
       "6      0.5       0  \n",
       "7      0.6       1  \n",
       "8      0.5       0  \n",
       "9      0.8       1  "
      ]
     },
     "execution_count": 5,
     "metadata": {},
     "output_type": "execute_result"
    }
   ],
   "source": [
    "THRESHOLD = 0.6\n",
    "\n",
    "select = wine['quality'] > THRESHOLD\n",
    "#print select[0:10]\n",
    "wine['target'] = np.where(wine['quality'] >= 0.6, 1,  0)\n",
    "\n",
    "ngood = np.sum(wine['target'])\n",
    "nbad  = len(wine) - ngood\n",
    "\n",
    "print 'number of good wines %d' % ngood\n",
    "print 'number of bad  wines %d' % nbad\n",
    "wine[:10]"
   ]
  },
  {
   "cell_type": "markdown",
   "metadata": {
    "deletable": true,
    "editable": true
   },
   "source": [
    "### Split into testing and training data samples"
   ]
  },
  {
   "cell_type": "code",
   "execution_count": 6,
   "metadata": {
    "collapsed": false,
    "deletable": true,
    "editable": true
   },
   "outputs": [
    {
     "name": "stdout",
     "output_type": "stream",
     "text": [
      "(3918, 11) (980, 11)\n"
     ]
    }
   ],
   "source": [
    "test_fraction = 0.20\n",
    "train_data, test_data = train_test_split(wine, test_size=test_fraction)\n",
    "print train_data.shape, test_data.shape"
   ]
  },
  {
   "cell_type": "markdown",
   "metadata": {
    "deletable": true,
    "editable": true
   },
   "source": [
    "### Prepare data for training/testing"
   ]
  },
  {
   "cell_type": "code",
   "execution_count": 7,
   "metadata": {
    "collapsed": false,
    "deletable": true,
    "editable": true
   },
   "outputs": [],
   "source": [
    "def standardize_data(train_data, test_data, names):\n",
    "    scaler  = StandardScaler()\n",
    "    scaler.fit(train_data[names])\n",
    "    \n",
    "    X_train = scaler.transform(train_data[names])\n",
    "    y_train = train_data['target']\n",
    "    \n",
    "    X_test  = scaler.transform(test_data[names])\n",
    "    y_test  = test_data['target']\n",
    "    return (X_train, X_test, y_train, y_test, scaler)"
   ]
  },
  {
   "cell_type": "code",
   "execution_count": 8,
   "metadata": {
    "collapsed": false,
    "deletable": true,
    "editable": true
   },
   "outputs": [
    {
     "data": {
      "text/plain": [
       "array([[-0.10121112,  0.06862166, -0.49327369],\n",
       "       [ 0.83608175, -1.23153635,  0.20272398],\n",
       "       [-0.12464345,  0.39366117,  0.0171246 ],\n",
       "       [ 1.39845747, -1.31279622,  0.94512149],\n",
       "       [-0.87447774,  0.9624803 , -0.400474  ]])"
      ]
     },
     "execution_count": 8,
     "metadata": {},
     "output_type": "execute_result"
    }
   ],
   "source": [
    "X_train, X_test, y_train, y_test, scaler = standardize_data(train_data, test_data, \n",
    "                                                            ['SO2tota', 'alcohol', 'salt'])\n",
    "X_train[0:5]"
   ]
  },
  {
   "cell_type": "code",
   "execution_count": 9,
   "metadata": {
    "collapsed": false,
    "deletable": true,
    "editable": true,
    "scrolled": true
   },
   "outputs": [],
   "source": [
    "#pd.scatter_matrix(wine, alpha=0.2, figsize=(21, 21), diagonal='kde')\n",
    "#plt.show()"
   ]
  },
  {
   "cell_type": "code",
   "execution_count": null,
   "metadata": {
    "collapsed": false,
    "deletable": true,
    "editable": true
   },
   "outputs": [],
   "source": []
  },
  {
   "cell_type": "markdown",
   "metadata": {
    "deletable": true,
    "editable": true
   },
   "source": [
    "### Define function space \n"
   ]
  },
  {
   "cell_type": "code",
   "execution_count": 10,
   "metadata": {
    "collapsed": false,
    "deletable": true,
    "editable": true
   },
   "outputs": [],
   "source": [
    "dt  = DecisionTreeClassifier(max_depth=6,\n",
    "                             min_samples_leaf=1)\n",
    "\n",
    "ada = AdaBoostClassifier(dt, \n",
    "                         n_estimators=100, \n",
    "                         random_state=1,\n",
    "                         algorithm=\"SAMME\")\n",
    "\n",
    "# possible combinations of params\n",
    "params = {'base_estimator__max_depth': [1,2,3,4,5],\n",
    "          'base_estimator__min_samples_leaf': [1,2,3,4,5,6,7,8],\n",
    "          'n_estimators' : [10, 20, 30, 40, 40, 50, 60, 70, 80, 90, 100]}"
   ]
  },
  {
   "cell_type": "markdown",
   "metadata": {
    "deletable": true,
    "editable": true
   },
   "source": [
    "### Choose a function, aka train a classifier!\n",
    "Use __RandomizedSearchCV__ to run many trainings, each with a randomly chosen set of discrete parameters from above and find the best classifier. This tool uses 3-way __cross-validation__. The training data are split 3 ways; 2/3 are used for training and the other 1/3 for validation and the training is done 3 times, each with a different 2/3 of the training data."
   ]
  },
  {
   "cell_type": "code",
   "execution_count": 33,
   "metadata": {
    "collapsed": false,
    "deletable": true,
    "editable": true
   },
   "outputs": [
    {
     "name": "stdout",
     "output_type": "stream",
     "text": [
      "*** TRAINING ***\n",
      "Fitting 3 folds for each of 25 candidates, totalling 75 fits\n"
     ]
    },
    {
     "name": "stderr",
     "output_type": "stream",
     "text": [
      "[Parallel(n_jobs=1)]: Done  75 out of  75 | elapsed:   10.8s finished\n"
     ]
    },
    {
     "name": "stdout",
     "output_type": "stream",
     "text": [
      "Best set of parameters: {'n_estimators': 90, 'base_estimator__max_depth': 5, 'base_estimator__min_samples_leaf': 6}\n",
      "Training set score: 0.794028\n",
      "Test set score:     0.718367\n",
      "save to 01_bdt_wine.pkl\n"
     ]
    },
    {
     "data": {
      "text/plain": [
       "['01_bdt_wine.pkl']"
      ]
     },
     "execution_count": 33,
     "metadata": {},
     "output_type": "execute_result"
    }
   ],
   "source": [
    "print \"*** TRAINING ***\"\n",
    "rcv = RandomizedSearchCV(ada, params, n_iter=25, verbose=1)\n",
    "rcv.fit(X_train, y_train)\n",
    "\n",
    "print \"Best set of parameters: %s\" % rcv.best_params_\n",
    "\n",
    "adabest = rcv.best_estimator_\n",
    "adabest.fit(X_train, y_train)\n",
    "\n",
    "print(\"Training set score: %f\" % adabest.score(X_train, y_train))      \n",
    "print(\"Test set score:     %f\" % adabest.score(X_test,  y_test))\n",
    "\n",
    "filename = '01_bdt_wine.pkl'\n",
    "print \"save to %s\" % filename\n",
    "joblib.dump(adabest, filename)"
   ]
  },
  {
   "cell_type": "code",
   "execution_count": null,
   "metadata": {
    "collapsed": false
   },
   "outputs": [],
   "source": []
  },
  {
   "cell_type": "code",
   "execution_count": 34,
   "metadata": {
    "collapsed": false,
    "deletable": true,
    "editable": true
   },
   "outputs": [],
   "source": [
    "def plotDistribution(ada, X_test, y_test, ftsize=FONTSIZE, fgsize=(16,8)):\n",
    "    p = ada.predict_proba(X_test)\n",
    "    b = map(lambda x: x[0][-1], filter(lambda x: x[-1], zip(p, y_test < 1)))\n",
    "    s = map(lambda x: x[0][-1], filter(lambda x: x[-1], zip(p, y_test > 0))) \n",
    "    \n",
    "    # set size of figure\n",
    "    plt.figure(figsize=fgsize)\n",
    "    plt.hist(b,\n",
    "             bins=50, \n",
    "             color=(1, 0, 0),\n",
    "             alpha=0.3,\n",
    "             range=(0.3, 0.7), \n",
    "             normed=True, \n",
    "             label='bad wine')\n",
    "    pl.legend(fontsize='small') # show legend using specified \"label\"\n",
    "    \n",
    "    plt.hist(s,\n",
    "             bins=50, \n",
    "             color=(0,1,0),\n",
    "             alpha=0.3,\n",
    "             range=(0.3, 0.7), \n",
    "             normed=True, \n",
    "             label='good wine')\n",
    "    pl.legend(fontsize='small') # show legend using specified \"label\"\n",
    "    \n",
    "    plt.savefig(\"01_bdt_distribution.png\")\n",
    "    plt.show()"
   ]
  },
  {
   "cell_type": "code",
   "execution_count": null,
   "metadata": {
    "collapsed": false,
    "deletable": true,
    "editable": true
   },
   "outputs": [],
   "source": []
  },
  {
   "cell_type": "code",
   "execution_count": 35,
   "metadata": {
    "collapsed": false,
    "deletable": true,
    "editable": true
   },
   "outputs": [
    {
     "data": {
      "image/png": "[encoded data removed]",
      "text/plain": [
       "<matplotlib.figure.Figure at 0x10dcf3ed0>"
      ]
     },
     "metadata": {},
     "output_type": "display_data"
    }
   ],
   "source": [
    "plotDistribution(adabest, X_test, y_test)\n"
   ]
  },
  {
   "cell_type": "code",
   "execution_count": null,
   "metadata": {
    "collapsed": true,
    "deletable": true,
    "editable": true
   },
   "outputs": [],
   "source": []
  },
  {
   "cell_type": "code",
   "execution_count": null,
   "metadata": {
    "collapsed": true,
    "deletable": true,
    "editable": true
   },
   "outputs": [],
   "source": []
  }
 ],
 "metadata": {
  "kernelspec": {
   "display_name": "Python 2",
   "language": "python",
   "name": "python2"
  },
  "language_info": {
   "codemirror_mode": {
    "name": "ipython",
    "version": 2
   },
   "file_extension": ".py",
   "mimetype": "text/x-python",
   "name": "python",
   "nbconvert_exporter": "python",
   "pygments_lexer": "ipython2",
   "version": "2.7.6"
  }
 },
 "nbformat": 4,
 "nbformat_minor": 0
}
