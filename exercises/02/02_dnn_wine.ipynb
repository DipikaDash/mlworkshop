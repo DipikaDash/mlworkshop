{
 "cells": [
  {
   "cell_type": "markdown",
   "metadata": {
    "deletable": true,
    "editable": true
   },
   "source": [
    "# Deep Neural Networks - exercise 02\n",
    " >__Created__:  2018 Harrison B. Prosper\n",
    "  \n",
    "\n",
    "### Neural Networks\n",
    "A neural network is a highly non-linear function. The functional form of a single layer with $I$ inputs and $J$ outputs is\n",
    "\n",
    "$$y_{j}(x) = f\\left(b_{j} + \\sum_{i=1}^I w_{ji} \\, x_i\\right),\\quad j = 1,\\cdots,J,$$\n",
    "which in matrix notation is\n",
    "$$\\mathbf{y} = f\\left(\\mathbf{b} + \\mathbf{w} \\, \\mathbf{x}\\right),$$\n",
    "where $f(*)$ is a non-linear function to be applied element-wise to its matrix argument. Popular examples of $f(*)$ are\n",
    "\\begin{align*}\n",
    "    f(z) & = \\tanh{z},\\\\\n",
    "    f(z) & = \\max(0, z) \\quad\\textrm{reLU function}.\n",
    "\\end{align*}\n",
    "\n",
    "Consider a neural network with $I$ inputs, $x_{i}, i = 1, \\cdots, I$, a single hidden layer with $H$ nodes, and $K$ outputs $y_{k}(x), k = 1, \\cdots, K$. Such a network is said to be *shallow* with structure $(I, H, K)$. The functional form is\n",
    "\n",
    "$$y = f^\\prime(\\mathbf{b}_1 + \\mathbf{w}_1 \\, f(\\mathbf{b}_0 + \\mathbf{w}_0 \\, \\mathbf{x})),$$\n",
    "\n",
    "where the subscripts label the layers, and, usually, the output function $f^\\prime$ differs from $f$. For regression,  $f^\\prime$ is\n",
    "the $identity$. For 2-class (i.e., binary) classification it is usually the $logistic$ function \n",
    "\n",
    "$$f^\\prime(z) = \\frac{1}{1 + \\exp(-z)},$$ \n",
    "\n",
    "while for multi-class classification one typically uses the $softwmax$ function\n",
    "\n",
    "$$y_j = f^\\prime(z_j) = \\frac{\\exp(z_j)}{\\sum_{k=1}^K \\exp(z_k)}.$$ \n",
    "\n",
    "For the special case of a single output network, the $\\mathbf{b}_1$ becomes a scalar $b$ and $\\mathbf{w}_1$ \n",
    "is a column matrix.\n",
    "\n",
    "### Deep Neural Networks\n",
    "A feed forward deep neural network (DNN) contains two or more hidden layers \n",
    "compounded recursively. For example, a DNN with two hidden layers has the functional form\n",
    "\n",
    "$$y = f(\\mathbf{b}_2 + \\mathbf{w}_2 \\, f^\\prime(\\mathbf{b}_1 + \\mathbf{w}_1 \\, f(\\mathbf{b}_0 + \\mathbf{w}_0 \\, \\mathbf{x}))).$$\n",
    "\n",
    "### Exercise\n",
    "  1. Build a deep network, using __MLPRegression__, to predict wine quality. \n",
    "  1. Vary the number of layers and nodes/layer"
   ]
  },
  {
   "cell_type": "markdown",
   "metadata": {
    "deletable": true,
    "editable": true
   },
   "source": []
  },
  {
   "cell_type": "code",
   "execution_count": 2,
   "metadata": {
    "collapsed": false,
    "deletable": true,
    "editable": true
   },
   "outputs": [
    {
     "name": "stderr",
     "output_type": "stream",
     "text": [
      "/opt/local/Library/Frameworks/Python.framework/Versions/2.7/lib/python2.7/site-packages/matplotlib/font_manager.py:273: UserWarning: Matplotlib is building the font cache using fc-list. This may take a moment.\n",
      "  warnings.warn('Matplotlib is building the font cache using fc-list. This may take a moment.')\n"
     ]
    }
   ],
   "source": [
    "import os, sys\n",
    "import pandas as pd\n",
    "import numpy as np\n",
    "\n",
    "from sklearn.pipeline import Pipeline\n",
    "from sklearn.model_selection import train_test_split, RandomizedSearchCV\n",
    "from sklearn.preprocessing import StandardScaler\n",
    "from sklearn.neural_network import MLPRegressor\n",
    "from sklearn.externals import joblib\n",
    "\n",
    "import matplotlib as mp\n",
    "import matplotlib.pyplot as plt\n",
    "import pylab as pl\n",
    "\n",
    "%matplotlib inline"
   ]
  },
  {
   "cell_type": "code",
   "execution_count": 3,
   "metadata": {
    "collapsed": false,
    "deletable": true,
    "editable": true
   },
   "outputs": [],
   "source": [
    "# update fonts\n",
    "FONTSIZE = 32\n",
    "font = {'family' : 'sans-serif',\n",
    "        'weight' : 'normal',\n",
    "        'size'   : 28}\n",
    "\n",
    "mp.rc('font', **font)"
   ]
  },
  {
   "cell_type": "markdown",
   "metadata": {
    "collapsed": true,
    "deletable": true,
    "editable": true
   },
   "source": [
    "### Load data into memory"
   ]
  },
  {
   "cell_type": "code",
   "execution_count": 4,
   "metadata": {
    "collapsed": false,
    "deletable": true,
    "editable": true
   },
   "outputs": [
    {
     "name": "stdout",
     "output_type": "stream",
     "text": [
      "['acetic', 'citric', 'suger', 'salt', 'SO2free', 'SO2tota', 'pH', 'sulfate', 'alcohol']\n"
     ]
    },
    {
     "data": {
      "text/html": [
       "<div>\n",
       "<table border=\"1\" class=\"dataframe\">\n",
       "  <thead>\n",
       "    <tr style=\"text-align: right;\">\n",
       "      <th></th>\n",
       "      <th>acetic</th>\n",
       "      <th>citric</th>\n",
       "      <th>suger</th>\n",
       "      <th>salt</th>\n",
       "      <th>SO2free</th>\n",
       "      <th>SO2tota</th>\n",
       "      <th>pH</th>\n",
       "      <th>sulfate</th>\n",
       "      <th>alcohol</th>\n",
       "      <th>quality</th>\n",
       "    </tr>\n",
       "  </thead>\n",
       "  <tbody>\n",
       "    <tr>\n",
       "      <th>0</th>\n",
       "      <td>0.180</td>\n",
       "      <td>0.33</td>\n",
       "      <td>1.4</td>\n",
       "      <td>0.029</td>\n",
       "      <td>35.0</td>\n",
       "      <td>138.0</td>\n",
       "      <td>3.36</td>\n",
       "      <td>0.60</td>\n",
       "      <td>11.5</td>\n",
       "      <td>0.7</td>\n",
       "    </tr>\n",
       "    <tr>\n",
       "      <th>1</th>\n",
       "      <td>0.685</td>\n",
       "      <td>0.21</td>\n",
       "      <td>9.5</td>\n",
       "      <td>0.070</td>\n",
       "      <td>33.0</td>\n",
       "      <td>172.0</td>\n",
       "      <td>3.00</td>\n",
       "      <td>0.55</td>\n",
       "      <td>9.1</td>\n",
       "      <td>0.6</td>\n",
       "    </tr>\n",
       "    <tr>\n",
       "      <th>2</th>\n",
       "      <td>0.210</td>\n",
       "      <td>0.28</td>\n",
       "      <td>2.4</td>\n",
       "      <td>0.056</td>\n",
       "      <td>49.0</td>\n",
       "      <td>159.0</td>\n",
       "      <td>3.02</td>\n",
       "      <td>0.47</td>\n",
       "      <td>8.8</td>\n",
       "      <td>0.8</td>\n",
       "    </tr>\n",
       "    <tr>\n",
       "      <th>3</th>\n",
       "      <td>0.250</td>\n",
       "      <td>0.13</td>\n",
       "      <td>17.2</td>\n",
       "      <td>0.036</td>\n",
       "      <td>49.0</td>\n",
       "      <td>219.0</td>\n",
       "      <td>2.96</td>\n",
       "      <td>0.46</td>\n",
       "      <td>9.7</td>\n",
       "      <td>0.5</td>\n",
       "    </tr>\n",
       "    <tr>\n",
       "      <th>4</th>\n",
       "      <td>0.420</td>\n",
       "      <td>0.23</td>\n",
       "      <td>8.8</td>\n",
       "      <td>0.054</td>\n",
       "      <td>42.0</td>\n",
       "      <td>215.0</td>\n",
       "      <td>3.02</td>\n",
       "      <td>0.58</td>\n",
       "      <td>9.2</td>\n",
       "      <td>0.6</td>\n",
       "    </tr>\n",
       "    <tr>\n",
       "      <th>5</th>\n",
       "      <td>0.240</td>\n",
       "      <td>0.15</td>\n",
       "      <td>7.1</td>\n",
       "      <td>0.043</td>\n",
       "      <td>32.0</td>\n",
       "      <td>134.0</td>\n",
       "      <td>3.24</td>\n",
       "      <td>0.48</td>\n",
       "      <td>9.9</td>\n",
       "      <td>0.6</td>\n",
       "    </tr>\n",
       "    <tr>\n",
       "      <th>6</th>\n",
       "      <td>0.250</td>\n",
       "      <td>0.37</td>\n",
       "      <td>1.0</td>\n",
       "      <td>0.043</td>\n",
       "      <td>10.0</td>\n",
       "      <td>80.0</td>\n",
       "      <td>3.08</td>\n",
       "      <td>0.38</td>\n",
       "      <td>11.4</td>\n",
       "      <td>0.5</td>\n",
       "    </tr>\n",
       "    <tr>\n",
       "      <th>7</th>\n",
       "      <td>0.140</td>\n",
       "      <td>0.32</td>\n",
       "      <td>1.1</td>\n",
       "      <td>0.022</td>\n",
       "      <td>48.0</td>\n",
       "      <td>116.0</td>\n",
       "      <td>3.04</td>\n",
       "      <td>0.67</td>\n",
       "      <td>10.0</td>\n",
       "      <td>0.6</td>\n",
       "    </tr>\n",
       "    <tr>\n",
       "      <th>8</th>\n",
       "      <td>0.310</td>\n",
       "      <td>0.26</td>\n",
       "      <td>7.3</td>\n",
       "      <td>0.050</td>\n",
       "      <td>37.0</td>\n",
       "      <td>157.0</td>\n",
       "      <td>3.09</td>\n",
       "      <td>0.43</td>\n",
       "      <td>9.0</td>\n",
       "      <td>0.5</td>\n",
       "    </tr>\n",
       "    <tr>\n",
       "      <th>9</th>\n",
       "      <td>0.410</td>\n",
       "      <td>0.18</td>\n",
       "      <td>3.5</td>\n",
       "      <td>0.027</td>\n",
       "      <td>23.0</td>\n",
       "      <td>109.0</td>\n",
       "      <td>3.34</td>\n",
       "      <td>0.54</td>\n",
       "      <td>12.8</td>\n",
       "      <td>0.8</td>\n",
       "    </tr>\n",
       "  </tbody>\n",
       "</table>\n",
       "</div>"
      ],
      "text/plain": [
       "   acetic  citric  suger   salt  SO2free  SO2tota    pH  sulfate  alcohol  \\\n",
       "0   0.180    0.33    1.4  0.029     35.0    138.0  3.36     0.60     11.5   \n",
       "1   0.685    0.21    9.5  0.070     33.0    172.0  3.00     0.55      9.1   \n",
       "2   0.210    0.28    2.4  0.056     49.0    159.0  3.02     0.47      8.8   \n",
       "3   0.250    0.13   17.2  0.036     49.0    219.0  2.96     0.46      9.7   \n",
       "4   0.420    0.23    8.8  0.054     42.0    215.0  3.02     0.58      9.2   \n",
       "5   0.240    0.15    7.1  0.043     32.0    134.0  3.24     0.48      9.9   \n",
       "6   0.250    0.37    1.0  0.043     10.0     80.0  3.08     0.38     11.4   \n",
       "7   0.140    0.32    1.1  0.022     48.0    116.0  3.04     0.67     10.0   \n",
       "8   0.310    0.26    7.3  0.050     37.0    157.0  3.09     0.43      9.0   \n",
       "9   0.410    0.18    3.5  0.027     23.0    109.0  3.34     0.54     12.8   \n",
       "\n",
       "   quality  \n",
       "0      0.7  \n",
       "1      0.6  \n",
       "2      0.8  \n",
       "3      0.5  \n",
       "4      0.6  \n",
       "5      0.6  \n",
       "6      0.5  \n",
       "7      0.6  \n",
       "8      0.5  \n",
       "9      0.8  "
      ]
     },
     "execution_count": 4,
     "metadata": {},
     "output_type": "execute_result"
    }
   ],
   "source": [
    "wine = pd.read_csv('../../datasets/whitewine.csv')\n",
    "names= wine.keys().tolist()\n",
    "inputs = names[:-1]\n",
    "print inputs\n",
    "wine[0:10]"
   ]
  },
  {
   "cell_type": "markdown",
   "metadata": {
    "deletable": true,
    "editable": true
   },
   "source": [
    "### Split into testing and training data samples"
   ]
  },
  {
   "cell_type": "code",
   "execution_count": 5,
   "metadata": {
    "collapsed": false,
    "deletable": true,
    "editable": true
   },
   "outputs": [
    {
     "name": "stdout",
     "output_type": "stream",
     "text": [
      "(3918, 10) (980, 10)\n"
     ]
    }
   ],
   "source": [
    "test_fraction = 0.20\n",
    "train_data, test_data = train_test_split(wine, test_size=test_fraction)\n",
    "print train_data.shape, test_data.shape"
   ]
  },
  {
   "cell_type": "markdown",
   "metadata": {
    "deletable": true,
    "editable": true
   },
   "source": [
    "### Prepare data for training/testing"
   ]
  },
  {
   "cell_type": "code",
   "execution_count": 6,
   "metadata": {
    "collapsed": false,
    "deletable": true,
    "editable": true
   },
   "outputs": [],
   "source": [
    "def standardize_data(train_data, test_data, names):\n",
    "    scaler  = StandardScaler()\n",
    "    scaler.fit(train_data[names])\n",
    "    \n",
    "    X_train = scaler.transform(train_data[names])\n",
    "    y_train = train_data['quality']\n",
    "    \n",
    "    X_test  = scaler.transform(test_data[names])\n",
    "    y_test  = test_data['quality']\n",
    "    return (X_train, X_test, y_train, y_test, scaler)"
   ]
  },
  {
   "cell_type": "code",
   "execution_count": 7,
   "metadata": {
    "collapsed": false,
    "deletable": true,
    "editable": true
   },
   "outputs": [],
   "source": [
    "X_train, X_test, y_train, y_test, scaler = standardize_data(train_data, test_data, inputs)"
   ]
  },
  {
   "cell_type": "code",
   "execution_count": null,
   "metadata": {
    "collapsed": false,
    "deletable": true,
    "editable": true
   },
   "outputs": [],
   "source": []
  },
  {
   "cell_type": "markdown",
   "metadata": {
    "deletable": true,
    "editable": true
   },
   "source": [
    "### Define function space \n",
    "A particular choice of neural network architecture, be it deep, convolutional, recurrent, etc., defines the space of possible functions that can be accessed via training. If you get poor results, it could be because you have insufficient training data, or perhaps your function space does not contain a function that is a good approximation to the desired solution, or it could be that your training algorithm is not good enough to locate the function within your function space, or any combination of these."
   ]
  },
  {
   "cell_type": "code",
   "execution_count": 8,
   "metadata": {
    "collapsed": false,
    "deletable": true,
    "editable": true
   },
   "outputs": [],
   "source": [
    "dnn = MLPRegressor(hidden_layer_sizes=(10, 10), \n",
    "                    max_iter=200, \n",
    "                    alpha=1e-3,\n",
    "                    solver='adam', \n",
    "                    verbose=1, \n",
    "                    tol=1e-6, \n",
    "                    warm_start=False,\n",
    "                    random_state=1)"
   ]
  },
  {
   "cell_type": "markdown",
   "metadata": {
    "deletable": true,
    "editable": true
   },
   "source": [
    "### Choose a function, aka train a regressor!"
   ]
  },
  {
   "cell_type": "code",
   "execution_count": null,
   "metadata": {
    "collapsed": true,
    "deletable": true,
    "editable": true
   },
   "outputs": [],
   "source": []
  },
  {
   "cell_type": "code",
   "execution_count": 9,
   "metadata": {
    "collapsed": false,
    "deletable": true,
    "editable": true
   },
   "outputs": [
    {
     "name": "stdout",
     "output_type": "stream",
     "text": [
      "*** TRAINING ***\n",
      "Iteration 1, loss = 0.72900715\n",
      "Iteration 2, loss = 0.38106436\n",
      "Iteration 3, loss = 0.22355415\n",
      "Iteration 4, loss = 0.15482103\n",
      "Iteration 5, loss = 0.11740095\n",
      "Iteration 6, loss = 0.09102210\n",
      "Iteration 7, loss = 0.07287055\n",
      "Iteration 8, loss = 0.05956036\n",
      "Iteration 9, loss = 0.04991028\n",
      "Iteration 10, loss = 0.04289126\n",
      "Iteration 11, loss = 0.03772565\n",
      "Iteration 12, loss = 0.03372238\n",
      "Iteration 13, loss = 0.03059855\n",
      "Iteration 14, loss = 0.02808360\n",
      "Iteration 15, loss = 0.02594658\n",
      "Iteration 16, loss = 0.02414312\n",
      "Iteration 17, loss = 0.02251920\n",
      "Iteration 18, loss = 0.02102988\n",
      "Iteration 19, loss = 0.01970799\n",
      "Iteration 20, loss = 0.01849907\n",
      "Iteration 21, loss = 0.01737390\n",
      "Iteration 22, loss = 0.01637808\n",
      "Iteration 23, loss = 0.01545867\n",
      "Iteration 24, loss = 0.01460838\n",
      "Iteration 25, loss = 0.01384303\n",
      "Iteration 26, loss = 0.01312060\n",
      "Iteration 27, loss = 0.01245067\n",
      "Iteration 28, loss = 0.01185361\n",
      "Iteration 29, loss = 0.01129388\n",
      "Iteration 30, loss = 0.01078468\n",
      "Iteration 31, loss = 0.01030596\n",
      "Iteration 32, loss = 0.00986602\n",
      "Iteration 33, loss = 0.00946927\n",
      "Iteration 34, loss = 0.00909817\n",
      "Iteration 35, loss = 0.00875330\n",
      "Iteration 36, loss = 0.00843529\n",
      "Iteration 37, loss = 0.00813533\n",
      "Iteration 38, loss = 0.00784678\n",
      "Iteration 39, loss = 0.00758543\n",
      "Iteration 40, loss = 0.00732743\n",
      "Iteration 41, loss = 0.00710200\n",
      "Iteration 42, loss = 0.00688826\n",
      "Iteration 43, loss = 0.00669022\n",
      "Iteration 44, loss = 0.00651427\n",
      "Iteration 45, loss = 0.00635188\n",
      "Iteration 46, loss = 0.00619612\n",
      "Iteration 47, loss = 0.00604986\n",
      "Iteration 48, loss = 0.00590288\n",
      "Iteration 49, loss = 0.00576849\n",
      "Iteration 50, loss = 0.00564816\n",
      "Iteration 51, loss = 0.00552909\n",
      "Iteration 52, loss = 0.00541544\n",
      "Iteration 53, loss = 0.00530611\n",
      "Iteration 54, loss = 0.00520822\n",
      "Iteration 55, loss = 0.00511391\n",
      "Iteration 56, loss = 0.00502617\n",
      "Iteration 57, loss = 0.00494540\n",
      "Iteration 58, loss = 0.00486001\n",
      "Iteration 59, loss = 0.00479077\n",
      "Iteration 60, loss = 0.00470989\n",
      "Iteration 61, loss = 0.00463788\n",
      "Iteration 62, loss = 0.00457311\n",
      "Iteration 63, loss = 0.00451597\n",
      "Iteration 64, loss = 0.00445424\n",
      "Iteration 65, loss = 0.00440511\n",
      "Iteration 66, loss = 0.00435166\n",
      "Iteration 67, loss = 0.00430272\n",
      "Iteration 68, loss = 0.00425426\n",
      "Iteration 69, loss = 0.00420825\n",
      "Iteration 70, loss = 0.00417121\n",
      "Iteration 71, loss = 0.00412115\n",
      "Iteration 72, loss = 0.00407690\n",
      "Iteration 73, loss = 0.00404008\n",
      "Iteration 74, loss = 0.00400585\n",
      "Iteration 75, loss = 0.00397011\n",
      "Iteration 76, loss = 0.00393222\n",
      "Iteration 77, loss = 0.00389456\n",
      "Iteration 78, loss = 0.00386077\n",
      "Iteration 79, loss = 0.00382974\n",
      "Iteration 80, loss = 0.00379846\n",
      "Iteration 81, loss = 0.00376917\n",
      "Iteration 82, loss = 0.00374366\n",
      "Iteration 83, loss = 0.00371584\n",
      "Iteration 84, loss = 0.00368403\n",
      "Iteration 85, loss = 0.00366199\n",
      "Iteration 86, loss = 0.00363337\n",
      "Iteration 87, loss = 0.00360830\n",
      "Iteration 88, loss = 0.00358293\n",
      "Iteration 89, loss = 0.00356432\n",
      "Iteration 90, loss = 0.00353645\n",
      "Iteration 91, loss = 0.00351360\n",
      "Iteration 92, loss = 0.00349580\n",
      "Iteration 93, loss = 0.00347564\n",
      "Iteration 94, loss = 0.00345911\n",
      "Iteration 95, loss = 0.00343662\n",
      "Iteration 96, loss = 0.00342352\n",
      "Iteration 97, loss = 0.00340943\n",
      "Iteration 98, loss = 0.00339012\n",
      "Iteration 99, loss = 0.00337352\n",
      "Iteration 100, loss = 0.00335245\n",
      "Iteration 101, loss = 0.00334518\n",
      "Iteration 102, loss = 0.00332378\n",
      "Iteration 103, loss = 0.00330961\n",
      "Iteration 104, loss = 0.00329429\n",
      "Iteration 105, loss = 0.00328039\n",
      "Iteration 106, loss = 0.00326661\n",
      "Iteration 107, loss = 0.00325444\n",
      "Iteration 108, loss = 0.00324357\n",
      "Iteration 109, loss = 0.00322698\n",
      "Iteration 110, loss = 0.00321599\n",
      "Iteration 111, loss = 0.00320944\n",
      "Iteration 112, loss = 0.00320030\n",
      "Iteration 113, loss = 0.00318916\n",
      "Iteration 114, loss = 0.00317025\n",
      "Iteration 115, loss = 0.00316587\n",
      "Iteration 116, loss = 0.00315775\n",
      "Iteration 117, loss = 0.00314144\n",
      "Iteration 118, loss = 0.00313720\n",
      "Iteration 119, loss = 0.00312475\n",
      "Iteration 120, loss = 0.00311797\n",
      "Iteration 121, loss = 0.00311383\n",
      "Iteration 122, loss = 0.00309860\n",
      "Iteration 123, loss = 0.00308980\n",
      "Iteration 124, loss = 0.00308627\n",
      "Iteration 125, loss = 0.00307722\n",
      "Iteration 126, loss = 0.00306785\n",
      "Iteration 127, loss = 0.00306237\n",
      "Iteration 128, loss = 0.00305813\n",
      "Iteration 129, loss = 0.00304894\n",
      "Iteration 130, loss = 0.00304181\n",
      "Iteration 131, loss = 0.00303465\n",
      "Iteration 132, loss = 0.00302970\n",
      "Iteration 133, loss = 0.00303453\n",
      "Iteration 134, loss = 0.00301932\n",
      "Iteration 135, loss = 0.00301608\n",
      "Iteration 136, loss = 0.00300525\n",
      "Iteration 137, loss = 0.00299550\n",
      "Iteration 138, loss = 0.00299183\n",
      "Iteration 139, loss = 0.00298580\n",
      "Iteration 140, loss = 0.00298130\n",
      "Iteration 141, loss = 0.00297243\n",
      "Iteration 142, loss = 0.00297441\n",
      "Iteration 143, loss = 0.00296613\n",
      "Iteration 144, loss = 0.00295946\n",
      "Iteration 145, loss = 0.00296569\n",
      "Iteration 146, loss = 0.00295576\n",
      "Iteration 147, loss = 0.00294833\n",
      "Iteration 148, loss = 0.00295317\n",
      "Iteration 149, loss = 0.00295740\n",
      "Iteration 150, loss = 0.00294247\n",
      "Iteration 151, loss = 0.00293295\n",
      "Iteration 152, loss = 0.00293004\n",
      "Iteration 153, loss = 0.00292569\n",
      "Iteration 154, loss = 0.00292651\n",
      "Iteration 155, loss = 0.00291654\n",
      "Iteration 156, loss = 0.00291867\n",
      "Iteration 157, loss = 0.00291582\n",
      "Iteration 158, loss = 0.00290310\n",
      "Iteration 159, loss = 0.00290440\n",
      "Iteration 160, loss = 0.00290092\n",
      "Iteration 161, loss = 0.00289804\n",
      "Iteration 162, loss = 0.00289513\n",
      "Iteration 163, loss = 0.00289131\n",
      "Iteration 164, loss = 0.00288401\n",
      "Iteration 165, loss = 0.00288804\n",
      "Iteration 166, loss = 0.00288125\n",
      "Iteration 167, loss = 0.00288074\n",
      "Iteration 168, loss = 0.00288009\n",
      "Iteration 169, loss = 0.00287494\n",
      "Iteration 170, loss = 0.00287578\n",
      "Iteration 171, loss = 0.00286987\n",
      "Iteration 172, loss = 0.00287150\n",
      "Iteration 173, loss = 0.00286759\n",
      "Iteration 174, loss = 0.00286270\n",
      "Iteration 175, loss = 0.00286126\n",
      "Iteration 176, loss = 0.00285652\n",
      "Iteration 177, loss = 0.00286515\n",
      "Iteration 178, loss = 0.00285293\n",
      "Iteration 179, loss = 0.00285155\n",
      "Iteration 180, loss = 0.00285409\n",
      "Iteration 181, loss = 0.00285173\n",
      "Iteration 182, loss = 0.00284339\n",
      "Iteration 183, loss = 0.00285312\n",
      "Iteration 184, loss = 0.00283702\n",
      "Iteration 185, loss = 0.00285183\n",
      "Iteration 186, loss = 0.00284919\n",
      "Iteration 187, loss = 0.00283619\n",
      "Training loss did not improve more than tol=0.000001 for two consecutive epochs. Stopping.\n",
      "Training set score: 0.306884\n",
      "Test set score:     0.172634\n",
      "save to 02_dnn_wine.pkl\n"
     ]
    },
    {
     "data": {
      "text/plain": [
       "['02_dnn_wine.pkl']"
      ]
     },
     "execution_count": 9,
     "metadata": {},
     "output_type": "execute_result"
    }
   ],
   "source": [
    "print \"*** TRAINING ***\"\n",
    "dnn.fit(X_train, y_train)\n",
    "\n",
    "print(\"Training set score: %f\" % dnn.score(X_train, y_train))      \n",
    "print(\"Test set score:     %f\" % dnn.score(X_test,  y_test))\n",
    "\n",
    "filename = '02_dnn_wine.pkl'\n",
    "print \"save to %s\" % filename\n",
    "joblib.dump(dnn, filename)"
   ]
  },
  {
   "cell_type": "markdown",
   "metadata": {
    "deletable": true,
    "editable": true
   },
   "source": [
    "### Plot loss curve vs. epochs"
   ]
  },
  {
   "cell_type": "code",
   "execution_count": 12,
   "metadata": {
    "collapsed": true,
    "deletable": true,
    "editable": true
   },
   "outputs": [],
   "source": [
    "def plotLoss(dnn, ftsize=FONTSIZE):\n",
    "    y    = dnn.loss_curve_\n",
    "    x    = np.array(range(len(y)))+1\n",
    "\n",
    "    ymin = 0.0\n",
    "    ymax = 1.2*max(y)\n",
    "    epoch= range(len(y))\n",
    "    xmin = 0\n",
    "    xmax = len(x)\n",
    "    \n",
    "    # set size of figure\n",
    "    plt.figure(figsize=(8,4));\n",
    "\n",
    "    # get axis info\n",
    "    axes = plt.gca()\n",
    "    # set axes' limits\n",
    "    axes.set_xlim(xmin, xmax)\n",
    "    axes.set_ylim(ymin, ymax)\n",
    "    \n",
    "    # annotate axes\n",
    "    plt.xlabel(r'epoch', fontsize=ftsize)\n",
    "    plt.ylabel(r'loss',  fontsize=ftsize)\n",
    "    \n",
    "    # choose color of points\n",
    "    plt.plot(x, y, 'b-')\n",
    "    plt.savefig('02_dnn_wine_loss.png')\n",
    "    plt.show()"
   ]
  },
  {
   "cell_type": "code",
   "execution_count": 13,
   "metadata": {
    "collapsed": false,
    "deletable": true,
    "editable": true
   },
   "outputs": [
    {
     "data": {
      "image/png": "[encoded data removed]",
      "text/plain": [
       "<matplotlib.figure.Figure at 0x10bbe6a10>"
      ]
     },
     "metadata": {},
     "output_type": "display_data"
    }
   ],
   "source": [
    "plotLoss(dnn)"
   ]
  },
  {
   "cell_type": "markdown",
   "metadata": {
    "deletable": true,
    "editable": true
   },
   "source": [
    "### plot results"
   ]
  },
  {
   "cell_type": "code",
   "execution_count": 14,
   "metadata": {
    "collapsed": true,
    "deletable": true,
    "editable": true
   },
   "outputs": [],
   "source": [
    "def plotResults(dnn, X_test, y_test, xmin=0, xmax=1, ymin=0, ymax=1, ftsize=FONTSIZE):\n",
    "    p = dnn.predict(X_test)\n",
    "    print p[:5]\n",
    "    # set size of figure\n",
    "    plt.figure(figsize=(8,8));\n",
    "\n",
    "    # get axis info\n",
    "    axes = plt.gca()\n",
    "    # set axes' limits\n",
    "    axes.set_xlim(xmin, xmax)\n",
    "    axes.set_ylim(ymin, ymax)\n",
    "    \n",
    "    # annotate axes\n",
    "    plt.xlabel(r'wine quality', fontsize=ftsize)\n",
    "    plt.ylabel(r'predicted wine quality', fontsize=ftsize)\n",
    "    \n",
    "    # choose color of points\n",
    "    blue= (0,0,1)\n",
    "    plt.scatter(y_test, p, marker='o', s=50, c=blue, alpha=0.2)    \n",
    "    plt.savefig('02_dnn_wine_results.png')\n",
    "    plt.show()"
   ]
  },
  {
   "cell_type": "code",
   "execution_count": 15,
   "metadata": {
    "collapsed": false,
    "deletable": true,
    "editable": true
   },
   "outputs": [
    {
     "name": "stdout",
     "output_type": "stream",
     "text": [
      "[ 0.64636066  0.56709857  0.59029707  0.57681098  0.57120613]\n"
     ]
    },
    {
     "data": {
      "image/png": "[encoded data removed]",
      "text/plain": [
       "<matplotlib.figure.Figure at 0x10c486590>"
      ]
     },
     "metadata": {},
     "output_type": "display_data"
    }
   ],
   "source": [
    "plotResults(dnn, X_test, y_test)"
   ]
  },
  {
   "cell_type": "code",
   "execution_count": null,
   "metadata": {
    "collapsed": true,
    "deletable": true,
    "editable": true
   },
   "outputs": [],
   "source": []
  },
  {
   "cell_type": "code",
   "execution_count": null,
   "metadata": {
    "collapsed": true,
    "deletable": true,
    "editable": true
   },
   "outputs": [],
   "source": []
  }
 ],
 "metadata": {
  "kernelspec": {
   "display_name": "Python 2",
   "language": "python",
   "name": "python2"
  },
  "language_info": {
   "codemirror_mode": {
    "name": "ipython",
    "version": 2
   },
   "file_extension": ".py",
   "mimetype": "text/x-python",
   "name": "python",
   "nbconvert_exporter": "python",
   "pygments_lexer": "ipython2",
   "version": "2.7.6"
  }
 },
 "nbformat": 4,
 "nbformat_minor": 0
}
