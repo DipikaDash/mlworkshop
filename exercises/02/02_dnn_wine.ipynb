{
 "cells": [
  {
   "cell_type": "markdown",
   "metadata": {
    "deletable": true,
    "editable": true
   },
   "source": [
    "# Deep Neural Networks - exercise 02\n",
    " >__Created__:  2018 Harrison B. Prosper\n",
    "  \n",
    "\n",
    "### Neural Networks\n",
    "A neural network is a highly non-linear function. The functional form of a single layer with $I$ inputs and $J$ outputs is\n",
    "\n",
    "$$y_{j}(x) = f\\left(b_{j} + \\sum_{i=1}^I w_{ji} \\, x_i\\right),\\quad j = 1,\\cdots,J,$$\n",
    "which in matrix notation is\n",
    "$$\\mathbf{y} = f\\left(\\mathbf{b} + \\mathbf{w} \\, \\mathbf{x}\\right),$$\n",
    "where $f(*)$ is a non-linear function to be applied element-wise to its matrix argument. Popular examples of $f(*)$ are\n",
    "\\begin{align*}\n",
    "    f(z) & = \\tanh{z},\\\\\n",
    "    f(z) & = \\max(0, z) \\quad\\textrm{reLU function}.\n",
    "\\end{align*}\n",
    "\n",
    "Consider a neural network with $I$ inputs, $x_{i}, i = 1, \\cdots, I$, a single hidden layer with $H$ nodes, and $K$ outputs $y_{k}(x), k = 1, \\cdots, K$. Such a network is said to be *shallow* with structure $(I, H, K)$. The functional form is\n",
    "\n",
    "$$y = f^\\prime(\\mathbf{b}_1 + \\mathbf{w}_1 \\, f(\\mathbf{b}_0 + \\mathbf{w}_0 \\, \\mathbf{x})),$$\n",
    "\n",
    "where the subscripts label the layers, and, usually, the output function $f^\\prime$ differs from $f$. For regression,  $f^\\prime$ is\n",
    "the $identity$. For 2-class (i.e., binary) classification it is usually the $logistic$ function \n",
    "\n",
    "$$f^\\prime(z) = \\frac{1}{1 + \\exp(-z)},$$ \n",
    "\n",
    "while for multi-class classification one typically uses the $softwmax$ function\n",
    "\n",
    "$$y_j = f^\\prime(z_j) = \\frac{\\exp(z_j)}{\\sum_{k=1}^K \\exp(z_k)}.$$ \n",
    "\n",
    "For the special case of a single output network, the $\\mathbf{b}_1$ becomes a scalar $b$ and $\\mathbf{w}_1$ \n",
    "is a column matrix.\n",
    "\n",
    "### Deep Neural Networks\n",
    "A feed forward deep neural network (DNN) contains two or more hidden layers \n",
    "compounded recursively. For example, a DNN with two hidden layers has the functional form\n",
    "\n",
    "$$y = f(\\mathbf{b}_2 + \\mathbf{w}_2 \\, f^\\prime(\\mathbf{b}_1 + \\mathbf{w}_1 \\, f(\\mathbf{b}_0 + \\mathbf{w}_0 \\, \\mathbf{x}))).$$\n",
    "\n",
    "### Exercise\n",
    "  1. Build a deep network, using __MLPRegression__, to predict wine quality. \n",
    "  1. Vary the number of layers and nodes/layer"
   ]
  },
  {
   "cell_type": "markdown",
   "metadata": {
    "deletable": true,
    "editable": true
   },
   "source": []
  },
  {
   "cell_type": "code",
   "execution_count": 1,
   "metadata": {
    "collapsed": false,
    "deletable": true,
    "editable": true
   },
   "outputs": [
    {
     "name": "stderr",
     "output_type": "stream",
     "text": [
      "/opt/local/Library/Frameworks/Python.framework/Versions/2.7/lib/python2.7/site-packages/matplotlib/font_manager.py:273: UserWarning: Matplotlib is building the font cache using fc-list. This may take a moment.\n",
      "  warnings.warn('Matplotlib is building the font cache using fc-list. This may take a moment.')\n"
     ]
    }
   ],
   "source": [
    "import os, sys\n",
    "import pandas as pd\n",
    "import numpy as np\n",
    "\n",
    "from sklearn.pipeline import Pipeline\n",
    "from sklearn.model_selection import train_test_split, RandomizedSearchCV\n",
    "from sklearn.preprocessing import StandardScaler\n",
    "from sklearn.neural_network import MLPRegressor\n",
    "from sklearn.externals import joblib\n",
    "\n",
    "import matplotlib as mp\n",
    "import matplotlib.pyplot as plt\n",
    "import pylab as pl\n",
    "\n",
    "%matplotlib inline"
   ]
  },
  {
   "cell_type": "code",
   "execution_count": 2,
   "metadata": {
    "collapsed": false,
    "deletable": true,
    "editable": true
   },
   "outputs": [],
   "source": [
    "# update fonts\n",
    "FONTSIZE = 32\n",
    "font = {'family' : 'sans-serif',\n",
    "        'weight' : 'normal',\n",
    "        'size'   : 28}\n",
    "\n",
    "mp.rc('font', **font)"
   ]
  },
  {
   "cell_type": "markdown",
   "metadata": {
    "collapsed": true,
    "deletable": true,
    "editable": true
   },
   "source": [
    "### Load data into memory"
   ]
  },
  {
   "cell_type": "code",
   "execution_count": 3,
   "metadata": {
    "collapsed": false,
    "deletable": true,
    "editable": true
   },
   "outputs": [
    {
     "name": "stdout",
     "output_type": "stream",
     "text": [
      "['acetic', 'citric', 'suger', 'salt', 'SO2free', 'SO2tota', 'pH', 'sulfate', 'alcohol']\n"
     ]
    },
    {
     "data": {
      "text/html": [
       "<div>\n",
       "<table border=\"1\" class=\"dataframe\">\n",
       "  <thead>\n",
       "    <tr style=\"text-align: right;\">\n",
       "      <th></th>\n",
       "      <th>acetic</th>\n",
       "      <th>citric</th>\n",
       "      <th>suger</th>\n",
       "      <th>salt</th>\n",
       "      <th>SO2free</th>\n",
       "      <th>SO2tota</th>\n",
       "      <th>pH</th>\n",
       "      <th>sulfate</th>\n",
       "      <th>alcohol</th>\n",
       "      <th>quality</th>\n",
       "    </tr>\n",
       "  </thead>\n",
       "  <tbody>\n",
       "    <tr>\n",
       "      <th>0</th>\n",
       "      <td>0.180</td>\n",
       "      <td>0.33</td>\n",
       "      <td>1.4</td>\n",
       "      <td>0.029</td>\n",
       "      <td>35.0</td>\n",
       "      <td>138.0</td>\n",
       "      <td>3.36</td>\n",
       "      <td>0.60</td>\n",
       "      <td>11.5</td>\n",
       "      <td>0.7</td>\n",
       "    </tr>\n",
       "    <tr>\n",
       "      <th>1</th>\n",
       "      <td>0.685</td>\n",
       "      <td>0.21</td>\n",
       "      <td>9.5</td>\n",
       "      <td>0.070</td>\n",
       "      <td>33.0</td>\n",
       "      <td>172.0</td>\n",
       "      <td>3.00</td>\n",
       "      <td>0.55</td>\n",
       "      <td>9.1</td>\n",
       "      <td>0.6</td>\n",
       "    </tr>\n",
       "    <tr>\n",
       "      <th>2</th>\n",
       "      <td>0.210</td>\n",
       "      <td>0.28</td>\n",
       "      <td>2.4</td>\n",
       "      <td>0.056</td>\n",
       "      <td>49.0</td>\n",
       "      <td>159.0</td>\n",
       "      <td>3.02</td>\n",
       "      <td>0.47</td>\n",
       "      <td>8.8</td>\n",
       "      <td>0.8</td>\n",
       "    </tr>\n",
       "    <tr>\n",
       "      <th>3</th>\n",
       "      <td>0.250</td>\n",
       "      <td>0.13</td>\n",
       "      <td>17.2</td>\n",
       "      <td>0.036</td>\n",
       "      <td>49.0</td>\n",
       "      <td>219.0</td>\n",
       "      <td>2.96</td>\n",
       "      <td>0.46</td>\n",
       "      <td>9.7</td>\n",
       "      <td>0.5</td>\n",
       "    </tr>\n",
       "    <tr>\n",
       "      <th>4</th>\n",
       "      <td>0.420</td>\n",
       "      <td>0.23</td>\n",
       "      <td>8.8</td>\n",
       "      <td>0.054</td>\n",
       "      <td>42.0</td>\n",
       "      <td>215.0</td>\n",
       "      <td>3.02</td>\n",
       "      <td>0.58</td>\n",
       "      <td>9.2</td>\n",
       "      <td>0.6</td>\n",
       "    </tr>\n",
       "    <tr>\n",
       "      <th>5</th>\n",
       "      <td>0.240</td>\n",
       "      <td>0.15</td>\n",
       "      <td>7.1</td>\n",
       "      <td>0.043</td>\n",
       "      <td>32.0</td>\n",
       "      <td>134.0</td>\n",
       "      <td>3.24</td>\n",
       "      <td>0.48</td>\n",
       "      <td>9.9</td>\n",
       "      <td>0.6</td>\n",
       "    </tr>\n",
       "    <tr>\n",
       "      <th>6</th>\n",
       "      <td>0.250</td>\n",
       "      <td>0.37</td>\n",
       "      <td>1.0</td>\n",
       "      <td>0.043</td>\n",
       "      <td>10.0</td>\n",
       "      <td>80.0</td>\n",
       "      <td>3.08</td>\n",
       "      <td>0.38</td>\n",
       "      <td>11.4</td>\n",
       "      <td>0.5</td>\n",
       "    </tr>\n",
       "    <tr>\n",
       "      <th>7</th>\n",
       "      <td>0.140</td>\n",
       "      <td>0.32</td>\n",
       "      <td>1.1</td>\n",
       "      <td>0.022</td>\n",
       "      <td>48.0</td>\n",
       "      <td>116.0</td>\n",
       "      <td>3.04</td>\n",
       "      <td>0.67</td>\n",
       "      <td>10.0</td>\n",
       "      <td>0.6</td>\n",
       "    </tr>\n",
       "    <tr>\n",
       "      <th>8</th>\n",
       "      <td>0.310</td>\n",
       "      <td>0.26</td>\n",
       "      <td>7.3</td>\n",
       "      <td>0.050</td>\n",
       "      <td>37.0</td>\n",
       "      <td>157.0</td>\n",
       "      <td>3.09</td>\n",
       "      <td>0.43</td>\n",
       "      <td>9.0</td>\n",
       "      <td>0.5</td>\n",
       "    </tr>\n",
       "    <tr>\n",
       "      <th>9</th>\n",
       "      <td>0.410</td>\n",
       "      <td>0.18</td>\n",
       "      <td>3.5</td>\n",
       "      <td>0.027</td>\n",
       "      <td>23.0</td>\n",
       "      <td>109.0</td>\n",
       "      <td>3.34</td>\n",
       "      <td>0.54</td>\n",
       "      <td>12.8</td>\n",
       "      <td>0.8</td>\n",
       "    </tr>\n",
       "  </tbody>\n",
       "</table>\n",
       "</div>"
      ],
      "text/plain": [
       "   acetic  citric  suger   salt  SO2free  SO2tota    pH  sulfate  alcohol  \\\n",
       "0   0.180    0.33    1.4  0.029     35.0    138.0  3.36     0.60     11.5   \n",
       "1   0.685    0.21    9.5  0.070     33.0    172.0  3.00     0.55      9.1   \n",
       "2   0.210    0.28    2.4  0.056     49.0    159.0  3.02     0.47      8.8   \n",
       "3   0.250    0.13   17.2  0.036     49.0    219.0  2.96     0.46      9.7   \n",
       "4   0.420    0.23    8.8  0.054     42.0    215.0  3.02     0.58      9.2   \n",
       "5   0.240    0.15    7.1  0.043     32.0    134.0  3.24     0.48      9.9   \n",
       "6   0.250    0.37    1.0  0.043     10.0     80.0  3.08     0.38     11.4   \n",
       "7   0.140    0.32    1.1  0.022     48.0    116.0  3.04     0.67     10.0   \n",
       "8   0.310    0.26    7.3  0.050     37.0    157.0  3.09     0.43      9.0   \n",
       "9   0.410    0.18    3.5  0.027     23.0    109.0  3.34     0.54     12.8   \n",
       "\n",
       "   quality  \n",
       "0      0.7  \n",
       "1      0.6  \n",
       "2      0.8  \n",
       "3      0.5  \n",
       "4      0.6  \n",
       "5      0.6  \n",
       "6      0.5  \n",
       "7      0.6  \n",
       "8      0.5  \n",
       "9      0.8  "
      ]
     },
     "execution_count": 3,
     "metadata": {},
     "output_type": "execute_result"
    }
   ],
   "source": [
    "wine = pd.read_csv('../../datasets/whitewine.csv')\n",
    "names= wine.keys().tolist()\n",
    "inputs = names[:-1]\n",
    "print inputs\n",
    "wine[0:10]"
   ]
  },
  {
   "cell_type": "markdown",
   "metadata": {
    "deletable": true,
    "editable": true
   },
   "source": [
    "### Split into testing and training data samples"
   ]
  },
  {
   "cell_type": "code",
   "execution_count": 8,
   "metadata": {
    "collapsed": false,
    "deletable": true,
    "editable": true
   },
   "outputs": [
    {
     "name": "stdout",
     "output_type": "stream",
     "text": [
      "(3918, 10) (980, 10)\n"
     ]
    }
   ],
   "source": [
    "test_fraction = 0.20\n",
    "train_data, test_data = train_test_split(wine, test_size=test_fraction)\n",
    "print train_data.shape, test_data.shape"
   ]
  },
  {
   "cell_type": "markdown",
   "metadata": {
    "deletable": true,
    "editable": true
   },
   "source": [
    "### Prepare data for training/testing"
   ]
  },
  {
   "cell_type": "code",
   "execution_count": 9,
   "metadata": {
    "collapsed": false,
    "deletable": true,
    "editable": true
   },
   "outputs": [],
   "source": [
    "def standardize_data(train_data, test_data, names):\n",
    "    scaler  = StandardScaler()\n",
    "    scaler.fit(train_data[names])\n",
    "    \n",
    "    X_train = scaler.transform(train_data[names])\n",
    "    y_train = train_data['quality']\n",
    "    \n",
    "    X_test  = scaler.transform(test_data[names])\n",
    "    y_test  = test_data['quality']\n",
    "    return (X_train, X_test, y_train, y_test, scaler)"
   ]
  },
  {
   "cell_type": "code",
   "execution_count": 10,
   "metadata": {
    "collapsed": false,
    "deletable": true,
    "editable": true
   },
   "outputs": [
    {
     "data": {
      "text/plain": [
       "array([[-0.17981027, -0.35381278, -0.11688106, -0.95388678, -0.54186596,\n",
       "        -1.51599277,  0.61027468,  0.35379052,  0.38502996],\n",
       "       [ 0.61522051, -1.1005297 , -0.11688106,  0.73415676,  0.9991176 ,\n",
       "         1.53516582, -0.11673118, -0.4337457 , -0.58847554],\n",
       "       [-0.67670451, -0.27084423, -0.01625039, -0.3151676 ,  0.70277461,\n",
       "        -0.04954446,  0.54418324, -1.57129801,  1.76416275],\n",
       "       [-0.37856797, -0.35381278, -0.68041282, -0.452036  , -1.07528334,\n",
       "        -0.49893991,  1.13900622,  1.66635088, -0.34509917],\n",
       "       [-0.17981027,  0.06102995,  1.61396649,  0.96227075, -0.00844857,\n",
       "         1.20403233, -0.77764561,  0.35379052, -1.15635375]])"
      ]
     },
     "execution_count": 10,
     "metadata": {},
     "output_type": "execute_result"
    }
   ],
   "source": [
    "X_train, X_test, y_train, y_test, scaler = standardize_data(train_data, test_data, inputs)\n",
    "X_train[0:5]"
   ]
  },
  {
   "cell_type": "code",
   "execution_count": null,
   "metadata": {
    "collapsed": false,
    "deletable": true,
    "editable": true
   },
   "outputs": [],
   "source": []
  },
  {
   "cell_type": "markdown",
   "metadata": {
    "deletable": true,
    "editable": true
   },
   "source": [
    "### Define function space \n"
   ]
  },
  {
   "cell_type": "code",
   "execution_count": 11,
   "metadata": {
    "collapsed": false,
    "deletable": true,
    "editable": true
   },
   "outputs": [],
   "source": [
    "dnn = MLPRegressor(hidden_layer_sizes=(10, 10), \n",
    "                    max_iter=200, \n",
    "                    alpha=1e-3,\n",
    "                    solver='adam', \n",
    "                    verbose=1, \n",
    "                    tol=1e-6, \n",
    "                    warm_start=False,\n",
    "                    random_state=1)\n",
    "# possible combinations of params\n",
    "params = {'max_iter': [50,100,200],\n",
    "          'hidden_layer_size': [(len)]\n",
    "          'alpha': [1e-3,2e-3,4e-3,8e-3],\n",
    "          'solver' : ['sgd', 'adam']}"
   ]
  },
  {
   "cell_type": "markdown",
   "metadata": {
    "deletable": true,
    "editable": true
   },
   "source": [
    "### Choose a function, aka train a regressor!"
   ]
  },
  {
   "cell_type": "code",
   "execution_count": null,
   "metadata": {
    "collapsed": true,
    "deletable": true,
    "editable": true
   },
   "outputs": [],
   "source": []
  },
  {
   "cell_type": "code",
   "execution_count": 13,
   "metadata": {
    "collapsed": false,
    "deletable": true,
    "editable": true
   },
   "outputs": [
    {
     "name": "stdout",
     "output_type": "stream",
     "text": [
      "*** TRAINING ***\n",
      "Iteration 1, loss = 0.57506732\n",
      "Iteration 2, loss = 0.23242585\n",
      "Iteration 3, loss = 0.09855838\n",
      "Iteration 4, loss = 0.05653152\n",
      "Iteration 5, loss = 0.04166801\n",
      "Iteration 6, loss = 0.03231590\n",
      "Iteration 7, loss = 0.02534604\n",
      "Iteration 8, loss = 0.02005435\n",
      "Iteration 9, loss = 0.01618368\n",
      "Iteration 10, loss = 0.01331767\n",
      "Iteration 11, loss = 0.01124038\n",
      "Iteration 12, loss = 0.00970886\n",
      "Iteration 13, loss = 0.00855359\n",
      "Iteration 14, loss = 0.00771420\n",
      "Iteration 15, loss = 0.00703764\n",
      "Iteration 16, loss = 0.00652322\n",
      "Iteration 17, loss = 0.00607480\n",
      "Iteration 18, loss = 0.00570452\n",
      "Iteration 19, loss = 0.00539209\n",
      "Iteration 20, loss = 0.00512191\n",
      "Iteration 21, loss = 0.00487282\n",
      "Iteration 22, loss = 0.00468771\n",
      "Iteration 23, loss = 0.00451243\n",
      "Iteration 24, loss = 0.00436142\n",
      "Iteration 25, loss = 0.00421861\n",
      "Iteration 26, loss = 0.00412007\n",
      "Iteration 27, loss = 0.00400289\n",
      "Iteration 28, loss = 0.00392026\n",
      "Iteration 29, loss = 0.00384253\n",
      "Iteration 30, loss = 0.00376986\n",
      "Iteration 31, loss = 0.00370425\n",
      "Iteration 32, loss = 0.00363693\n",
      "Iteration 33, loss = 0.00357375\n",
      "Iteration 34, loss = 0.00350837\n",
      "Iteration 35, loss = 0.00344665\n",
      "Iteration 36, loss = 0.00339802\n",
      "Iteration 37, loss = 0.00335468\n",
      "Iteration 38, loss = 0.00333338\n",
      "Iteration 39, loss = 0.00329678\n",
      "Iteration 40, loss = 0.00329015\n",
      "Iteration 41, loss = 0.00324841\n",
      "Iteration 42, loss = 0.00322576\n",
      "Iteration 43, loss = 0.00320380\n",
      "Iteration 44, loss = 0.00318880\n",
      "Iteration 45, loss = 0.00316028\n",
      "Iteration 46, loss = 0.00315004\n",
      "Iteration 47, loss = 0.00313185\n",
      "Iteration 48, loss = 0.00312152\n",
      "Iteration 49, loss = 0.00309812\n",
      "Iteration 50, loss = 0.00307184\n",
      "Iteration 51, loss = 0.00306253\n",
      "Iteration 52, loss = 0.00303929\n",
      "Iteration 53, loss = 0.00302362\n",
      "Iteration 54, loss = 0.00301255\n",
      "Iteration 55, loss = 0.00299625\n",
      "Iteration 56, loss = 0.00298459\n",
      "Iteration 57, loss = 0.00297570\n",
      "Iteration 58, loss = 0.00296281\n",
      "Iteration 59, loss = 0.00295218\n",
      "Iteration 60, loss = 0.00294911\n",
      "Iteration 61, loss = 0.00293073\n",
      "Iteration 62, loss = 0.00292968\n",
      "Iteration 63, loss = 0.00292467\n",
      "Iteration 64, loss = 0.00293355\n",
      "Iteration 65, loss = 0.00290383\n",
      "Iteration 66, loss = 0.00289502\n",
      "Iteration 67, loss = 0.00288433\n",
      "Iteration 68, loss = 0.00287194\n",
      "Iteration 69, loss = 0.00287050\n",
      "Iteration 70, loss = 0.00287442\n",
      "Iteration 71, loss = 0.00286503\n",
      "Iteration 72, loss = 0.00285857\n",
      "Iteration 73, loss = 0.00285247\n",
      "Iteration 74, loss = 0.00284729\n",
      "Iteration 75, loss = 0.00283142\n",
      "Iteration 76, loss = 0.00282741\n",
      "Iteration 77, loss = 0.00282199\n",
      "Iteration 78, loss = 0.00281668\n",
      "Iteration 79, loss = 0.00281637\n",
      "Iteration 80, loss = 0.00280732\n",
      "Iteration 81, loss = 0.00279697\n",
      "Iteration 82, loss = 0.00279442\n",
      "Iteration 83, loss = 0.00279179\n",
      "Iteration 84, loss = 0.00278697\n",
      "Iteration 85, loss = 0.00277938\n",
      "Iteration 86, loss = 0.00277875\n",
      "Iteration 87, loss = 0.00277466\n",
      "Iteration 88, loss = 0.00276833\n",
      "Iteration 89, loss = 0.00276144\n",
      "Iteration 90, loss = 0.00275501\n",
      "Iteration 91, loss = 0.00276094\n",
      "Iteration 92, loss = 0.00274644\n",
      "Iteration 93, loss = 0.00274108\n",
      "Iteration 94, loss = 0.00273572\n",
      "Iteration 95, loss = 0.00274049\n",
      "Iteration 96, loss = 0.00272965\n",
      "Iteration 97, loss = 0.00272370\n",
      "Iteration 98, loss = 0.00271706\n",
      "Iteration 99, loss = 0.00270993\n",
      "Iteration 100, loss = 0.00270878\n",
      "Iteration 101, loss = 0.00270259\n",
      "Iteration 102, loss = 0.00269523\n",
      "Iteration 103, loss = 0.00268819\n",
      "Iteration 104, loss = 0.00268800\n",
      "Iteration 105, loss = 0.00267603\n",
      "Iteration 106, loss = 0.00266928\n",
      "Iteration 107, loss = 0.00266712\n",
      "Iteration 108, loss = 0.00267403\n",
      "Iteration 109, loss = 0.00266538\n",
      "Iteration 110, loss = 0.00265081\n",
      "Iteration 111, loss = 0.00264243\n",
      "Iteration 112, loss = 0.00263705\n",
      "Iteration 113, loss = 0.00263230\n",
      "Iteration 114, loss = 0.00263053\n",
      "Iteration 115, loss = 0.00262880\n",
      "Iteration 116, loss = 0.00262295\n",
      "Iteration 117, loss = 0.00262329\n",
      "Iteration 118, loss = 0.00261301\n",
      "Iteration 119, loss = 0.00260762\n",
      "Iteration 120, loss = 0.00260565\n",
      "Iteration 121, loss = 0.00260217\n",
      "Iteration 122, loss = 0.00259077\n",
      "Iteration 123, loss = 0.00259957\n",
      "Iteration 124, loss = 0.00258748\n",
      "Iteration 125, loss = 0.00258916\n",
      "Iteration 126, loss = 0.00258683\n",
      "Iteration 127, loss = 0.00259190\n",
      "Training loss did not improve more than tol=0.000001 for two consecutive epochs. Stopping.\n",
      "Training set score: 0.349924\n",
      "Test set score:     0.226202\n",
      "save to 02_dnn_wine.pkl\n"
     ]
    },
    {
     "data": {
      "text/plain": [
       "['02_dnn_wine.pkl']"
      ]
     },
     "execution_count": 13,
     "metadata": {},
     "output_type": "execute_result"
    }
   ],
   "source": [
    "print \"*** TRAINING ***\"\n",
    "dnn.fit(X_train, y_train)\n",
    "\n",
    "print(\"Training set score: %f\" % dnn.score(X_train, y_train))      \n",
    "print(\"Test set score:     %f\" % dnn.score(X_test,  y_test))\n",
    "\n",
    "filename = '02_dnn_wine.pkl'\n",
    "print \"save to %s\" % filename\n",
    "joblib.dump(dnn, filename)"
   ]
  },
  {
   "cell_type": "markdown",
   "metadata": {
    "deletable": true,
    "editable": true
   },
   "source": [
    "### Plot loss curve vs. epochs"
   ]
  },
  {
   "cell_type": "code",
   "execution_count": 20,
   "metadata": {
    "collapsed": true,
    "deletable": true,
    "editable": true
   },
   "outputs": [],
   "source": [
    "def plotLoss(dnn, ftsize=FONTSIZE):\n",
    "    y    = dnn.loss_curve_\n",
    "    x    = np.array(range(len(y)))+1\n",
    "\n",
    "    ymin = 0.8*min(y)\n",
    "    ymax = 1.2*max(y)\n",
    "    epoch= range(len(y))\n",
    "    xmin = 0\n",
    "    xmax = len(x)\n",
    "    \n",
    "    # set size of figure\n",
    "    plt.figure(figsize=(8,4));\n",
    "\n",
    "    # get axis info\n",
    "    axes = plt.gca()\n",
    "    # set axes' limits\n",
    "    axes.set_xlim(xmin, xmax)\n",
    "    axes.set_ylim(ymin, ymax)\n",
    "    \n",
    "    # annotate axes\n",
    "    plt.xlabel(r'epoch', fontsize=ftsize)\n",
    "    plt.ylabel(r'loss',  fontsize=ftsize)\n",
    "    \n",
    "    # choose color of points\n",
    "    plt.plot(x, y, 'b-')\n",
    "    plt.savefig('02_dnn_wine_loss.png')\n",
    "    plt.show()"
   ]
  },
  {
   "cell_type": "code",
   "execution_count": 21,
   "metadata": {
    "collapsed": false,
    "deletable": true,
    "editable": true
   },
   "outputs": [
    {
     "data": {
      "image/png": "[encoded data removed]",
      "text/plain": [
       "<matplotlib.figure.Figure at 0x106683050>"
      ]
     },
     "metadata": {},
     "output_type": "display_data"
    }
   ],
   "source": [
    "plotLoss(dnn)"
   ]
  },
  {
   "cell_type": "markdown",
   "metadata": {
    "deletable": true,
    "editable": true
   },
   "source": [
    "### plot results"
   ]
  },
  {
   "cell_type": "code",
   "execution_count": 24,
   "metadata": {
    "collapsed": true,
    "deletable": true,
    "editable": true
   },
   "outputs": [],
   "source": [
    "def plotResults(dnn, X_test, y_test, xmin=0, xmax=1, ymin=0, ymax=1, ftsize=FONTSIZE):\n",
    "    p = dnn.predict(X_test)\n",
    "    \n",
    "    # set size of figure\n",
    "    plt.figure(figsize=(8,8));\n",
    "\n",
    "    # get axis info\n",
    "    axes = plt.gca()\n",
    "    # set axes' limits\n",
    "    axes.set_xlim(xmin, xmax)\n",
    "    axes.set_ylim(ymin, ymax)\n",
    "    \n",
    "    # annotate axes\n",
    "    plt.xlabel(r'wine quality', fontsize=ftsize)\n",
    "    plt.ylabel(r'predicted wine quality', fontsize=ftsize)\n",
    "    \n",
    "    # choose color of points\n",
    "    blue= (0,0,1)\n",
    "    plt.scatter(y_test, p, marker='o', s=50, c=blue, alpha=0.2)    \n",
    "    plt.savefig('02_dnn_wine_results.png')\n",
    "    plt.show()"
   ]
  },
  {
   "cell_type": "code",
   "execution_count": 25,
   "metadata": {
    "collapsed": false,
    "deletable": true,
    "editable": true
   },
   "outputs": [
    {
     "data": {
      "image/png": "[encoded data removed]",
      "text/plain": [
       "<matplotlib.figure.Figure at 0x10c0c4310>"
      ]
     },
     "metadata": {},
     "output_type": "display_data"
    }
   ],
   "source": [
    "plotResults(dnn, X_test, y_test)"
   ]
  },
  {
   "cell_type": "code",
   "execution_count": null,
   "metadata": {
    "collapsed": true,
    "deletable": true,
    "editable": true
   },
   "outputs": [],
   "source": []
  },
  {
   "cell_type": "code",
   "execution_count": null,
   "metadata": {
    "collapsed": true,
    "deletable": true,
    "editable": true
   },
   "outputs": [],
   "source": []
  }
 ],
 "metadata": {
  "kernelspec": {
   "display_name": "Python 2",
   "language": "python",
   "name": "python2"
  },
  "language_info": {
   "codemirror_mode": {
    "name": "ipython",
    "version": 2
   },
   "file_extension": ".py",
   "mimetype": "text/x-python",
   "name": "python",
   "nbconvert_exporter": "python",
   "pygments_lexer": "ipython2",
   "version": "2.7.6"
  }
 },
 "nbformat": 4,
 "nbformat_minor": 0
}
