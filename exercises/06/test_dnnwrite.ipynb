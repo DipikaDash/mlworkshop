{
 "cells": [
  {
   "cell_type": "markdown",
   "metadata": {
    "deletable": true,
    "editable": true
   },
   "source": [
    "# Test dnnwrite.py \n",
    " >__Created__:  2018 Harrison B. Prosper\n",
    "\n"
   ]
  },
  {
   "cell_type": "markdown",
   "metadata": {
    "deletable": true,
    "editable": true
   },
   "source": []
  },
  {
   "cell_type": "code",
   "execution_count": 1,
   "metadata": {
    "collapsed": false,
    "deletable": true,
    "editable": true
   },
   "outputs": [
    {
     "name": "stderr",
     "output_type": "stream",
     "text": [
      "/opt/local/Library/Frameworks/Python.framework/Versions/2.7/lib/python2.7/site-packages/matplotlib/font_manager.py:273: UserWarning: Matplotlib is building the font cache using fc-list. This may take a moment.\n",
      "  warnings.warn('Matplotlib is building the font cache using fc-list. This may take a moment.')\n"
     ]
    },
    {
     "name": "stdout",
     "output_type": "stream",
     "text": [
      "Welcome to JupyROOT 6.12/04\n"
     ]
    }
   ],
   "source": [
    "import os, sys\n",
    "import pandas as pd\n",
    "import numpy as np\n",
    "\n",
    "from pprint import PrettyPrinter\n",
    "\n",
    "from sklearn.model_selection import train_test_split\n",
    "from sklearn.preprocessing import StandardScaler\n",
    "from sklearn.neural_network import MLPClassifier\n",
    "from sklearn.externals import joblib\n",
    "\n",
    "import matplotlib as mp\n",
    "import matplotlib.pyplot as plt\n",
    "import pylab as pl\n",
    "import ROOT\n",
    "\n",
    "%matplotlib inline"
   ]
  },
  {
   "cell_type": "code",
   "execution_count": 2,
   "metadata": {
    "collapsed": false,
    "deletable": true,
    "editable": true
   },
   "outputs": [],
   "source": [
    "# update fonts\n",
    "FONTSIZE = 24\n",
    "font = {'family' : 'sans-serif',\n",
    "        'weight' : 'normal',\n",
    "        'size'   : 24}\n",
    "\n",
    "mp.rc('font', **font)"
   ]
  },
  {
   "cell_type": "code",
   "execution_count": 3,
   "metadata": {
    "collapsed": false,
    "deletable": true,
    "editable": true
   },
   "outputs": [
    {
     "name": "stdout",
     "output_type": "stream",
     "text": [
      "0\n"
     ]
    }
   ],
   "source": [
    "print ROOT.gSystem.Load('DNN/lib/libDNN')"
   ]
  },
  {
   "cell_type": "code",
   "execution_count": 4,
   "metadata": {
    "collapsed": false,
    "deletable": true,
    "editable": true
   },
   "outputs": [],
   "source": [
    "dnn = ROOT.dnn_vbf_ggf()"
   ]
  },
  {
   "cell_type": "markdown",
   "metadata": {
    "collapsed": true,
    "deletable": true,
    "editable": true
   },
   "source": [
    "### Load Higgs boson data into memory\n"
   ]
  },
  {
   "cell_type": "code",
   "execution_count": 5,
   "metadata": {
    "collapsed": false,
    "deletable": true,
    "editable": true
   },
   "outputs": [
    {
     "data": {
      "text/html": [
       "<div>\n",
       "<table border=\"1\" class=\"dataframe\">\n",
       "  <thead>\n",
       "    <tr style=\"text-align: right;\">\n",
       "      <th></th>\n",
       "      <th>target</th>\n",
       "      <th>detajj</th>\n",
       "      <th>massjj</th>\n",
       "    </tr>\n",
       "  </thead>\n",
       "  <tbody>\n",
       "    <tr>\n",
       "      <th>30257</th>\n",
       "      <td>1.0</td>\n",
       "      <td>0.7547</td>\n",
       "      <td>212.5</td>\n",
       "    </tr>\n",
       "    <tr>\n",
       "      <th>48940</th>\n",
       "      <td>1.0</td>\n",
       "      <td>5.1280</td>\n",
       "      <td>558.4</td>\n",
       "    </tr>\n",
       "    <tr>\n",
       "      <th>60286</th>\n",
       "      <td>1.0</td>\n",
       "      <td>4.8450</td>\n",
       "      <td>1012.0</td>\n",
       "    </tr>\n",
       "    <tr>\n",
       "      <th>14710</th>\n",
       "      <td>0.0</td>\n",
       "      <td>3.5240</td>\n",
       "      <td>797.4</td>\n",
       "    </tr>\n",
       "    <tr>\n",
       "      <th>26311</th>\n",
       "      <td>1.0</td>\n",
       "      <td>1.0550</td>\n",
       "      <td>107.3</td>\n",
       "    </tr>\n",
       "    <tr>\n",
       "      <th>2051</th>\n",
       "      <td>0.0</td>\n",
       "      <td>3.1290</td>\n",
       "      <td>680.2</td>\n",
       "    </tr>\n",
       "    <tr>\n",
       "      <th>26521</th>\n",
       "      <td>1.0</td>\n",
       "      <td>2.3110</td>\n",
       "      <td>189.6</td>\n",
       "    </tr>\n",
       "    <tr>\n",
       "      <th>34661</th>\n",
       "      <td>1.0</td>\n",
       "      <td>5.7930</td>\n",
       "      <td>681.6</td>\n",
       "    </tr>\n",
       "    <tr>\n",
       "      <th>33682</th>\n",
       "      <td>1.0</td>\n",
       "      <td>3.2240</td>\n",
       "      <td>249.3</td>\n",
       "    </tr>\n",
       "    <tr>\n",
       "      <th>49316</th>\n",
       "      <td>0.0</td>\n",
       "      <td>1.0170</td>\n",
       "      <td>538.8</td>\n",
       "    </tr>\n",
       "  </tbody>\n",
       "</table>\n",
       "</div>"
      ],
      "text/plain": [
       "       target  detajj  massjj\n",
       "30257     1.0  0.7547   212.5\n",
       "48940     1.0  5.1280   558.4\n",
       "60286     1.0  4.8450  1012.0\n",
       "14710     0.0  3.5240   797.4\n",
       "26311     1.0  1.0550   107.3\n",
       "2051      0.0  3.1290   680.2\n",
       "26521     1.0  2.3110   189.6\n",
       "34661     1.0  5.7930   681.6\n",
       "33682     1.0  3.2240   249.3\n",
       "49316     0.0  1.0170   538.8"
      ]
     },
     "execution_count": 5,
     "metadata": {},
     "output_type": "execute_result"
    }
   ],
   "source": [
    "train_data, test_data = joblib.load('../03/higgs_vbf_ggf_data.pkl')\n",
    "train_data[['target','detajj', 'massjj']][:10]"
   ]
  },
  {
   "cell_type": "markdown",
   "metadata": {
    "deletable": true,
    "editable": true
   },
   "source": [
    "### Load previously trained MLP"
   ]
  },
  {
   "cell_type": "code",
   "execution_count": 6,
   "metadata": {
    "collapsed": false,
    "deletable": true,
    "editable": true
   },
   "outputs": [
    {
     "data": {
      "text/plain": [
       "(MLPClassifier(activation='relu', alpha=0.001, batch_size='auto', beta_1=0.9,\n",
       "        beta_2=0.999, early_stopping=False, epsilon=1e-08,\n",
       "        hidden_layer_sizes=(10, 10), learning_rate='constant',\n",
       "        learning_rate_init=0.001, max_iter=500, momentum=0.9,\n",
       "        nesterovs_momentum=True, power_t=0.5, random_state=1, shuffle=True,\n",
       "        solver='adam', tol=1e-06, validation_fraction=0.1, verbose=0,\n",
       "        warm_start=False),\n",
       " StandardScaler(copy=True, with_mean=True, with_std=True))"
      ]
     },
     "execution_count": 6,
     "metadata": {},
     "output_type": "execute_result"
    }
   ],
   "source": [
    "mlp, scaler = joblib.load(\"../03/03_dnn_higgs_vbf_ggf.pkl\")\n",
    "mlp, scaler"
   ]
  },
  {
   "cell_type": "markdown",
   "metadata": {
    "deletable": true,
    "editable": true
   },
   "source": [
    "### Prepare data for training/testing"
   ]
  },
  {
   "cell_type": "code",
   "execution_count": 7,
   "metadata": {
    "collapsed": false,
    "deletable": true,
    "editable": true
   },
   "outputs": [
    {
     "name": "stdout",
     "output_type": "stream",
     "text": [
      "mean: [   2.94192279  432.64474879]\n",
      "scale: [   1.90830183  506.94648289]\n"
     ]
    }
   ],
   "source": [
    "inputs  = ['detajj', 'massjj']\n",
    "X_train = scaler.transform(train_data[inputs]); y_train = train_data['target']\n",
    "X_test  = scaler.transform(test_data[inputs]); y_test = test_data['target']\n",
    "print \"mean: %s\" % scaler.mean_\n",
    "print \"scale: %s\" % scaler.scale_"
   ]
  },
  {
   "cell_type": "code",
   "execution_count": null,
   "metadata": {
    "collapsed": false,
    "deletable": true,
    "editable": true
   },
   "outputs": [],
   "source": []
  },
  {
   "cell_type": "markdown",
   "metadata": {
    "deletable": true,
    "editable": true
   },
   "source": [
    "### Check DNN class. It should give same output as MLP"
   ]
  },
  {
   "cell_type": "code",
   "execution_count": 8,
   "metadata": {
    "collapsed": false,
    "deletable": true,
    "editable": true
   },
   "outputs": [
    {
     "name": "stdout",
     "output_type": "stream",
     "text": [
      "               inputs\t    target\t       DNN        MLP\n",
      "     0.407    243.500\t         1\t    0.4125     0.4125\n",
      "     4.655    676.700\t         1\t    0.7617     0.7617\n",
      "     1.120     67.220\t         1\t    0.1863     0.1863\n",
      "     0.374     19.000\t         0\t    0.1287     0.1287\n",
      "     0.480     44.900\t         0\t    0.1752     0.1752\n",
      "     0.488     71.080\t         0\t    0.2431     0.2431\n",
      "     1.418    179.600\t         0\t    0.4202     0.4202\n",
      "     0.025     60.400\t         1\t    0.2496     0.2496\n",
      "     4.539    427.000\t         1\t    0.6676     0.6676\n",
      "     6.143   1322.000\t         1\t    0.8167     0.8167\n",
      "     5.603   1030.000\t         1\t    0.7975     0.7975\n",
      "     5.423    633.700\t         1\t    0.6708     0.6708\n",
      "     4.412    351.500\t         0\t    0.5263     0.5263\n",
      "     3.521    596.300\t         1\t    0.7219     0.7219\n",
      "     2.729    164.300\t         0\t    0.3135     0.3135\n",
      "     1.263     69.320\t         0\t    0.1819     0.1819\n",
      "     6.098   1064.000\t         0\t    0.7743     0.7743\n",
      "     5.706   2338.000\t         1\t    0.9094     0.9094\n",
      "     4.403    614.600\t         1\t    0.7518     0.7518\n",
      "     6.418    647.400\t         1\t    0.5292     0.5292\n"
     ]
    }
   ],
   "source": [
    "yy = mlp.predict_proba(X_test)\n",
    "print \"%21s\\t%10s\\t%10s %10s\" % ('inputs', 'target', 'DNN', 'MLP')\n",
    "\n",
    "for i in range(20):\n",
    "    target = test_data['target'].iloc[i]\n",
    "    detajj = test_data['detajj'].iloc[i]\n",
    "    massjj = test_data['massjj'].iloc[i]\n",
    "    \n",
    "    y1 = dnn((detajj, massjj))\n",
    "    y2 = yy[i][1]\n",
    "    \n",
    "    print \"%10.3f %10.3f\\t%10d\\t%10.4f %10.4f\" % (detajj, massjj, target, y1, y2)\n"
   ]
  },
  {
   "cell_type": "code",
   "execution_count": null,
   "metadata": {
    "collapsed": true,
    "deletable": true,
    "editable": true
   },
   "outputs": [],
   "source": []
  },
  {
   "cell_type": "code",
   "execution_count": null,
   "metadata": {
    "collapsed": true,
    "deletable": true,
    "editable": true
   },
   "outputs": [],
   "source": []
  }
 ],
 "metadata": {
  "kernelspec": {
   "display_name": "Python 2",
   "language": "python",
   "name": "python2"
  },
  "language_info": {
   "codemirror_mode": {
    "name": "ipython",
    "version": 2
   },
   "file_extension": ".py",
   "mimetype": "text/x-python",
   "name": "python",
   "nbconvert_exporter": "python",
   "pygments_lexer": "ipython2",
   "version": "2.7.14"
  }
 },
 "nbformat": 4,
 "nbformat_minor": 0
}
